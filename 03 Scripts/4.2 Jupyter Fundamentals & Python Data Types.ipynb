{
 "cells": [
  {
   "cell_type": "markdown",
   "id": "263b1e81",
   "metadata": {},
   "source": [
    "# Import libraries"
   ]
  },
  {
   "cell_type": "code",
   "execution_count": 1,
   "id": "a4fd489c",
   "metadata": {},
   "outputs": [],
   "source": [
    "# Import libraries\n",
    "\n",
    "import pandas as pd\n",
    "import numpy as np\n",
    "import os\n",
    "import matplotlib.pyplot as plt\n",
    "import seaborn as sns\n",
    "import scipy"
   ]
  },
  {
   "cell_type": "markdown",
   "id": "7a81a6cc",
   "metadata": {},
   "source": [
    "# Import Data"
   ]
  },
  {
   "cell_type": "code",
   "execution_count": 2,
   "id": "96ff4dfc",
   "metadata": {},
   "outputs": [],
   "source": [
    "# Set path\n",
    "\n",
    "path = r\"C:\\Users\\marce\\Documents\\Instacart Basket Analysis\""
   ]
  },
  {
   "cell_type": "code",
   "execution_count": 4,
   "id": "6b7c6fd0",
   "metadata": {},
   "outputs": [],
   "source": [
    "# Import ords_prods_merged_03.pkl\n",
    "\n",
    "df = pd.read_pickle(os.path.join(path, '02 Data', 'Prepared Data', 'ords_prods_merge_3.pkl'))"
   ]
  },
  {
   "cell_type": "code",
   "execution_count": 5,
   "id": "44fc4822",
   "metadata": {},
   "outputs": [
    {
     "name": "stdout",
     "output_type": "stream",
     "text": [
      "<class 'pandas.core.frame.DataFrame'>\n",
      "Int64Index: 32404161 entries, 0 to 32404858\n",
      "Data columns (total 23 columns):\n",
      " #   Column                  Dtype  \n",
      "---  ------                  -----  \n",
      " 0   order_id                int32  \n",
      " 1   user_id                 int32  \n",
      " 2   order_number            int8   \n",
      " 3   orders_day_of_week      int8   \n",
      " 4   order_hour_of_day       int8   \n",
      " 5   days_since_prior_order  float16\n",
      " 6   product_id              float16\n",
      " 7   add_to_cart_order       float16\n",
      " 8   reordered               float16\n",
      " 9   product_name            object \n",
      " 10  aisle_id                int8   \n",
      " 11  department_id           int8   \n",
      " 12  prices                  float16\n",
      " 13  price_range_loc         object \n",
      " 14  busiest_day             object \n",
      " 15  busiest_days            object \n",
      " 16  busiest_period_of_day   object \n",
      " 17  max_order               int8   \n",
      " 18  loyalty_flag            object \n",
      " 19  mean_prices             float32\n",
      " 20  spender_level           object \n",
      " 21  median_freq             float16\n",
      " 22  Frequency_flag          object \n",
      "dtypes: float16(6), float32(1), int32(2), int8(6), object(8)\n",
      "memory usage: 3.1+ GB\n"
     ]
    }
   ],
   "source": [
    "df.info()"
   ]
  },
  {
   "cell_type": "code",
   "execution_count": 7,
   "id": "b5a6c36f",
   "metadata": {},
   "outputs": [],
   "source": [
    "# Chnage datatype for 'mean_prices' to float16\n",
    "\n",
    "df['mean_prices']=df['mean_prices'].astype('float16')\n"
   ]
  },
  {
   "cell_type": "code",
   "execution_count": 8,
   "id": "a5c6b986",
   "metadata": {},
   "outputs": [
    {
     "name": "stdout",
     "output_type": "stream",
     "text": [
      "<class 'pandas.core.frame.DataFrame'>\n",
      "Int64Index: 32404161 entries, 0 to 32404858\n",
      "Data columns (total 23 columns):\n",
      " #   Column                  Dtype  \n",
      "---  ------                  -----  \n",
      " 0   order_id                int32  \n",
      " 1   user_id                 int32  \n",
      " 2   order_number            int8   \n",
      " 3   orders_day_of_week      int8   \n",
      " 4   order_hour_of_day       int8   \n",
      " 5   days_since_prior_order  float16\n",
      " 6   product_id              float16\n",
      " 7   add_to_cart_order       float16\n",
      " 8   reordered               float16\n",
      " 9   product_name            object \n",
      " 10  aisle_id                int8   \n",
      " 11  department_id           int8   \n",
      " 12  prices                  float16\n",
      " 13  price_range_loc         object \n",
      " 14  busiest_day             object \n",
      " 15  busiest_days            object \n",
      " 16  busiest_period_of_day   object \n",
      " 17  max_order               int8   \n",
      " 18  loyalty_flag            object \n",
      " 19  mean_prices             float16\n",
      " 20  spender_level           object \n",
      " 21  median_freq             float16\n",
      " 22  Frequency_flag          object \n",
      "dtypes: float16(7), int32(2), int8(6), object(8)\n",
      "memory usage: 3.0+ GB\n"
     ]
    }
   ],
   "source": [
    "df.info()"
   ]
  },
  {
   "cell_type": "code",
   "execution_count": null,
   "id": "ad7a5112",
   "metadata": {},
   "outputs": [],
   "source": [
    "df.head()"
   ]
  },
  {
   "cell_type": "code",
   "execution_count": null,
   "id": "53ba423b",
   "metadata": {},
   "outputs": [],
   "source": []
  }
 ],
 "metadata": {
  "kernelspec": {
   "display_name": "Python 3 (ipykernel)",
   "language": "python",
   "name": "python3"
  },
  "language_info": {
   "codemirror_mode": {
    "name": "ipython",
    "version": 3
   },
   "file_extension": ".py",
   "mimetype": "text/x-python",
   "name": "python",
   "nbconvert_exporter": "python",
   "pygments_lexer": "ipython3",
   "version": "3.10.9"
  }
 },
 "nbformat": 4,
 "nbformat_minor": 5
}
