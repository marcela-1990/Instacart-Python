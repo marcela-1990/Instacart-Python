{
 "cells": [
  {
   "cell_type": "markdown",
   "id": "865cc497",
   "metadata": {},
   "source": [
    "# 4.10 Coding Etiquette & Excel Reporting-Part I"
   ]
  },
  {
   "cell_type": "markdown",
   "id": "c85f7e83",
   "metadata": {},
   "source": [
    "### This script contains the following points: "
   ]
  },
  {
   "cell_type": "markdown",
   "id": "3e1d6d8e",
   "metadata": {},
   "source": [
    "#### 1.\tImport Libraries and Data"
   ]
  },
  {
   "cell_type": "markdown",
   "id": "b15a86f7",
   "metadata": {},
   "source": [
    "#### 2.\tAddressing Data Security"
   ]
  },
  {
   "cell_type": "markdown",
   "id": "c052d265",
   "metadata": {},
   "source": [
    "#### 3.\tRegional segmentation of the data\n",
    "       3.1 Creation of regional segmentation\n",
    "       3.2 Spending habits by Region"
   ]
  },
  {
   "cell_type": "markdown",
   "id": "ca64d6a3",
   "metadata": {},
   "source": [
    "#### 4.\tLow-activity customers flag"
   ]
  },
  {
   "cell_type": "markdown",
   "id": "089602dc",
   "metadata": {},
   "source": [
    "#### 5. Customer profiling  & 6. Visualization\n",
    "        5.1\tAge Profile creation and Pie chart visualization\n",
    "        5.2\tIncome Profile creation and Pie Chart visualization\n",
    "        5.3\tFamily Profile creation and Pie chart visualization\n",
    "        5.4\tProfiling Day of the Week and Bar Chart visualization\n"
   ]
  },
  {
   "cell_type": "markdown",
   "id": "db702644",
   "metadata": {},
   "source": [
    "#### 7. Aggregate the max, mean, and min variables on a customer-profile level for usage frequency and expenditure\n",
    "       7.1 Summary statistics of AGE across order frequency and expenditure\n",
    "       7.2 Summary statistics of INCOME across order frequency and expenditure\n",
    "       7.3 Summary statistics of FAMILY PROFILE across order frequency and expenditure\n",
    "       7.4 Summary statistics of DAY OF WEEK across order frequency and expenditure\n"
   ]
  },
  {
   "cell_type": "markdown",
   "id": "8771c763",
   "metadata": {},
   "source": [
    "#### 8. Customer Profiles by Region and Departments \n",
    "      8.1 Age Grouping by Region\n",
    "      8.2 Age Grouping by Department\n",
    "      8.3 Family Profile by Region\n",
    "      8.4 Family Profile by Department\n",
    "      8.5 Income Profile by Region\n",
    "      8.6 Income Profile by Department\n",
    "      8.7 Orders Days of Week Profile by Region\n",
    "      8.8 Orders Days of Week Profile by Department\n",
    "      \n"
   ]
  },
  {
   "cell_type": "markdown",
   "id": "233c61a6",
   "metadata": {},
   "source": [
    "# 1. Import Libraries  and Data"
   ]
  },
  {
   "cell_type": "code",
   "execution_count": 1,
   "id": "c71a9106",
   "metadata": {},
   "outputs": [],
   "source": [
    "# Import libraries\n",
    "\n",
    "import pandas as pd\n",
    "import numpy as np\n",
    "import os\n",
    "import matplotlib.pyplot as plt\n",
    "import seaborn as sns\n",
    "import scipy"
   ]
  },
  {
   "cell_type": "code",
   "execution_count": 3,
   "id": "1bc9e5e3",
   "metadata": {},
   "outputs": [],
   "source": [
    "#Set path\n",
    "\n",
    "path = r\"C:\\Users\\marce\\Documents\\Instacart Basket Analysis\""
   ]
  },
  {
   "cell_type": "code",
   "execution_count": 4,
   "id": "75236050",
   "metadata": {},
   "outputs": [],
   "source": [
    "# Import opc_merged.pkl\n",
    "\n",
    "df= pd.read_pickle(os.path.join(path, '02 Data', 'Prepared Data', 'opc_merged.pkl'))"
   ]
  },
  {
   "cell_type": "markdown",
   "id": "a25a1dd0",
   "metadata": {},
   "source": [
    "# 2. Addresing Data Security"
   ]
  },
  {
   "cell_type": "code",
   "execution_count": 4,
   "id": "de63d73a",
   "metadata": {},
   "outputs": [
    {
     "name": "stdout",
     "output_type": "stream",
     "text": [
      "<class 'pandas.core.frame.DataFrame'>\n",
      "Int64Index: 32404161 entries, 0 to 32404160\n",
      "Data columns (total 31 columns):\n",
      " #   Column                  Dtype   \n",
      "---  ------                  -----   \n",
      " 0   order_id                int32   \n",
      " 1   user_id                 int32   \n",
      " 2   order_number            int8    \n",
      " 3   orders_day_of_week      int8    \n",
      " 4   order_hour_of_day       int8    \n",
      " 5   days_since_prior_order  float16 \n",
      " 6   product_id              float16 \n",
      " 7   add_to_cart_order       float16 \n",
      " 8   reordered               float16 \n",
      " 9   product_name            object  \n",
      " 10  aisle_id                int8    \n",
      " 11  department_id           int8    \n",
      " 12  prices                  float16 \n",
      " 13  price_range_loc         object  \n",
      " 14  busiest_day             object  \n",
      " 15  busiest_days            object  \n",
      " 16  busiest_period_of_day   object  \n",
      " 17  max_order               int8    \n",
      " 18  loyalty_flag            object  \n",
      " 19  mean_prices             float32 \n",
      " 20  spender_level           object  \n",
      " 21  median_freq             float16 \n",
      " 22  Frequency_flag          object  \n",
      " 23  gender                  object  \n",
      " 24  state                   object  \n",
      " 25  age                     int8    \n",
      " 26  date_joined             object  \n",
      " 27  dependants_number       int8    \n",
      " 28  family_status           object  \n",
      " 29  income                  int64   \n",
      " 30  exists                  category\n",
      "dtypes: category(1), float16(6), float32(1), int32(2), int64(1), int8(8), object(12)\n",
      "memory usage: 4.4+ GB\n"
     ]
    }
   ],
   "source": [
    "df.info()"
   ]
  },
  {
   "cell_type": "markdown",
   "id": "2a49a82d",
   "metadata": {},
   "source": [
    "Data contain no PII elements, as the 'first_name' and 'last_name' columns were deleted in the previous lesson\n"
   ]
  },
  {
   "cell_type": "markdown",
   "id": "fecacb8e",
   "metadata": {},
   "source": [
    "# 3. Regional Segmentation of the data"
   ]
  },
  {
   "cell_type": "markdown",
   "id": "4d44e060",
   "metadata": {},
   "source": [
    "##  3.1\tCreation of regional segmentation"
   ]
  },
  {
   "cell_type": "code",
   "execution_count": 5,
   "id": "bc19d34a",
   "metadata": {},
   "outputs": [],
   "source": [
    "# Assign States within Regions\n",
    "\n",
    "region = []\n",
    "for value in df['state']:\n",
    "    if (value == 'Maine') or (value == 'New Hampshire') or (value == 'Vermont') or (value == 'Massachusetts') or (value == 'Rhode Island') or (value == 'Connecticut') or (value == 'New York') or (value == 'Pennsylvania') or (value =='New Jersey'):\n",
    "        region.append('Northeast')\n",
    "    elif (value == 'Wisconsin') or (value == 'Michigan') or (value == 'Illinois') or (value == 'Indiana') or (value == 'Ohio') or (value == 'North Dakota') or (value == 'South Dakota') or (value == 'Nebraska') or (value == 'Kansas') or (value == 'Minnesota') or (value == 'Iowa') or (value == 'Missouri'):\n",
    "        region.append('Midwest')\n",
    "    elif (value == 'Idaho') or (value == 'Montana') or (value == 'Wyoming') or (value == 'Nevada') or (value == 'Utah') or (value == 'Colorado') or (value == 'Arizona') or (value == 'New Mexico') or (value == 'Alaska') or (value == 'Washington') or (value == 'Oregon') or (value == 'California') or (value == 'Hawaii'):\n",
    "        region.append('West')\n",
    "    else:\n",
    "        region.append('South')"
   ]
  },
  {
   "cell_type": "code",
   "execution_count": 6,
   "id": "8befc426",
   "metadata": {},
   "outputs": [],
   "source": [
    "# Create a new column 'region'\n",
    "\n",
    "df['region']= region"
   ]
  },
  {
   "cell_type": "code",
   "execution_count": 7,
   "id": "ebd96882",
   "metadata": {},
   "outputs": [
    {
     "data": {
      "text/plain": [
       "South        10791640\n",
       "West          8292785\n",
       "Midwest       7597106\n",
       "Northeast     5722630\n",
       "Name: region, dtype: int64"
      ]
     },
     "execution_count": 7,
     "metadata": {},
     "output_type": "execute_result"
    }
   ],
   "source": [
    "# Check 'region' column\n",
    "\n",
    "df['region'].value_counts(dropna = False)"
   ]
  },
  {
   "cell_type": "code",
   "execution_count": 10,
   "id": "ecdf86e6",
   "metadata": {},
   "outputs": [
    {
     "data": {
      "text/html": [
       "<div>\n",
       "<style scoped>\n",
       "    .dataframe tbody tr th:only-of-type {\n",
       "        vertical-align: middle;\n",
       "    }\n",
       "\n",
       "    .dataframe tbody tr th {\n",
       "        vertical-align: top;\n",
       "    }\n",
       "\n",
       "    .dataframe thead th {\n",
       "        text-align: right;\n",
       "    }\n",
       "</style>\n",
       "<table border=\"1\" class=\"dataframe\">\n",
       "  <thead>\n",
       "    <tr style=\"text-align: right;\">\n",
       "      <th></th>\n",
       "      <th>order_id</th>\n",
       "      <th>user_id</th>\n",
       "      <th>order_number</th>\n",
       "      <th>orders_day_of_week</th>\n",
       "      <th>order_hour_of_day</th>\n",
       "      <th>days_since_prior_order</th>\n",
       "      <th>product_id</th>\n",
       "      <th>add_to_cart_order</th>\n",
       "      <th>reordered</th>\n",
       "      <th>product_name</th>\n",
       "      <th>...</th>\n",
       "      <th>Frequency_flag</th>\n",
       "      <th>gender</th>\n",
       "      <th>state</th>\n",
       "      <th>age</th>\n",
       "      <th>date_joined</th>\n",
       "      <th>dependants_number</th>\n",
       "      <th>family_status</th>\n",
       "      <th>income</th>\n",
       "      <th>exists</th>\n",
       "      <th>region</th>\n",
       "    </tr>\n",
       "  </thead>\n",
       "  <tbody>\n",
       "  </tbody>\n",
       "</table>\n",
       "<p>0 rows × 32 columns</p>\n",
       "</div>"
      ],
      "text/plain": [
       "Empty DataFrame\n",
       "Columns: [order_id, user_id, order_number, orders_day_of_week, order_hour_of_day, days_since_prior_order, product_id, add_to_cart_order, reordered, product_name, aisle_id, department_id, prices, price_range_loc, busiest_day, busiest_days, busiest_period_of_day, max_order, loyalty_flag, mean_prices, spender_level, median_freq, Frequency_flag, gender, state, age, date_joined, dependants_number, family_status, income, exists, region]\n",
       "Index: []\n",
       "\n",
       "[0 rows x 32 columns]"
      ]
     },
     "execution_count": 10,
     "metadata": {},
     "output_type": "execute_result"
    }
   ],
   "source": [
    "# Finding NaN states\n",
    "\n",
    "df[df['region'].isnull()]"
   ]
  },
  {
   "cell_type": "markdown",
   "id": "7cfc2f82",
   "metadata": {},
   "source": [
    "## 3.2 Spending habits by Region"
   ]
  },
  {
   "cell_type": "code",
   "execution_count": 9,
   "id": "6410ac0b",
   "metadata": {},
   "outputs": [],
   "source": [
    "# Create crosstab between 'spender_level' and 'region' columns\n",
    "\n",
    "region_spend = pd.crosstab(df['region'], df['spender_level'], dropna = False)"
   ]
  },
  {
   "cell_type": "code",
   "execution_count": 11,
   "id": "f4a64731",
   "metadata": {},
   "outputs": [],
   "source": [
    "region_spend.to_clipboard()"
   ]
  },
  {
   "cell_type": "code",
   "execution_count": 12,
   "id": "06b76763",
   "metadata": {},
   "outputs": [
    {
     "data": {
      "text/html": [
       "<div>\n",
       "<style scoped>\n",
       "    .dataframe tbody tr th:only-of-type {\n",
       "        vertical-align: middle;\n",
       "    }\n",
       "\n",
       "    .dataframe tbody tr th {\n",
       "        vertical-align: top;\n",
       "    }\n",
       "\n",
       "    .dataframe thead th {\n",
       "        text-align: right;\n",
       "    }\n",
       "</style>\n",
       "<table border=\"1\" class=\"dataframe\">\n",
       "  <thead>\n",
       "    <tr style=\"text-align: right;\">\n",
       "      <th>spender_level</th>\n",
       "      <th>High spender</th>\n",
       "      <th>Low spender</th>\n",
       "    </tr>\n",
       "    <tr>\n",
       "      <th>region</th>\n",
       "      <th></th>\n",
       "      <th></th>\n",
       "    </tr>\n",
       "  </thead>\n",
       "  <tbody>\n",
       "    <tr>\n",
       "      <th>Midwest</th>\n",
       "      <td>140167</td>\n",
       "      <td>7456939</td>\n",
       "    </tr>\n",
       "    <tr>\n",
       "      <th>Northeast</th>\n",
       "      <td>98777</td>\n",
       "      <td>5623853</td>\n",
       "    </tr>\n",
       "    <tr>\n",
       "      <th>South</th>\n",
       "      <td>189513</td>\n",
       "      <td>10602127</td>\n",
       "    </tr>\n",
       "    <tr>\n",
       "      <th>West</th>\n",
       "      <td>148075</td>\n",
       "      <td>8144710</td>\n",
       "    </tr>\n",
       "  </tbody>\n",
       "</table>\n",
       "</div>"
      ],
      "text/plain": [
       "spender_level  High spender  Low spender\n",
       "region                                  \n",
       "Midwest              140167      7456939\n",
       "Northeast             98777      5623853\n",
       "South                189513     10602127\n",
       "West                 148075      8144710"
      ]
     },
     "execution_count": 12,
     "metadata": {},
     "output_type": "execute_result"
    }
   ],
   "source": [
    "region_spend\n",
    "\n"
   ]
  },
  {
   "cell_type": "code",
   "execution_count": 13,
   "id": "d19bf9dd",
   "metadata": {},
   "outputs": [
    {
     "data": {
      "image/png": "[encoded data removed]",
      "text/plain": [
       "<Figure size 640x480 with 1 Axes>"
      ]
     },
     "metadata": {},
     "output_type": "display_data"
    }
   ],
   "source": [
    "# Create bar chart for spending flag distribution\n",
    "\n",
    "region_bar = region_spend.plot.bar(rot = 0, color = ['navy', 'mediumslateblue'])"
   ]
  },
  {
   "cell_type": "markdown",
   "id": "0abc24f1",
   "metadata": {},
   "source": [
    "The South region is the region with the most High Spenders and Low spenders, but the Northeast region has the lowest number of High and Low spenders.\n",
    "\n"
   ]
  },
  {
   "cell_type": "code",
   "execution_count": 25,
   "id": "365b64d0",
   "metadata": {},
   "outputs": [],
   "source": [
    "# Export the Bar Chart\n",
    "\n",
    "region_bar.figure.savefig(os.path.join(path,'04 Analysis','Visualizations', 'region_loyalty.png'))"
   ]
  },
  {
   "cell_type": "markdown",
   "id": "e8f262b8",
   "metadata": {},
   "source": [
    "# 4. Low-activity customers \n",
    "(customers with less than 5 orders)"
   ]
  },
  {
   "cell_type": "code",
   "execution_count": 14,
   "id": "250a0c26",
   "metadata": {},
   "outputs": [],
   "source": [
    "# Create low and Regular activity flag\n",
    "df.loc[df['max_order'] <5, 'activity_level'] = 'low-activity'\n",
    "df.loc[df['max_order'] >5, 'activity_level'] = 'regular-activity'"
   ]
  },
  {
   "cell_type": "code",
   "execution_count": 15,
   "id": "8b36f87e",
   "metadata": {},
   "outputs": [
    {
     "data": {
      "text/plain": [
       "regular-activity    30170807\n",
       "low-activity         1440251\n",
       "Name: activity_level, dtype: int64"
      ]
     },
     "execution_count": 15,
     "metadata": {},
     "output_type": "execute_result"
    }
   ],
   "source": [
    "# Check the activity flag\n",
    "\n",
    "df['activity_level'].value_counts(dropna = True)"
   ]
  },
  {
   "cell_type": "code",
   "execution_count": 16,
   "id": "ed1276ca",
   "metadata": {},
   "outputs": [],
   "source": [
    "# Create a subset without Low-activity customers\n",
    "\n",
    "df_active_users =df.loc[df['activity_level']== 'regular-activity']\n",
    "\n"
   ]
  },
  {
   "cell_type": "code",
   "execution_count": 17,
   "id": "f62966f0",
   "metadata": {},
   "outputs": [
    {
     "data": {
      "text/html": [
       "<div>\n",
       "<style scoped>\n",
       "    .dataframe tbody tr th:only-of-type {\n",
       "        vertical-align: middle;\n",
       "    }\n",
       "\n",
       "    .dataframe tbody tr th {\n",
       "        vertical-align: top;\n",
       "    }\n",
       "\n",
       "    .dataframe thead th {\n",
       "        text-align: right;\n",
       "    }\n",
       "</style>\n",
       "<table border=\"1\" class=\"dataframe\">\n",
       "  <thead>\n",
       "    <tr style=\"text-align: right;\">\n",
       "      <th></th>\n",
       "      <th>order_id</th>\n",
       "      <th>user_id</th>\n",
       "      <th>order_number</th>\n",
       "      <th>orders_day_of_week</th>\n",
       "      <th>order_hour_of_day</th>\n",
       "      <th>days_since_prior_order</th>\n",
       "      <th>product_id</th>\n",
       "      <th>add_to_cart_order</th>\n",
       "      <th>reordered</th>\n",
       "      <th>product_name</th>\n",
       "      <th>...</th>\n",
       "      <th>gender</th>\n",
       "      <th>state</th>\n",
       "      <th>age</th>\n",
       "      <th>date_joined</th>\n",
       "      <th>dependants_number</th>\n",
       "      <th>family_status</th>\n",
       "      <th>income</th>\n",
       "      <th>exists</th>\n",
       "      <th>region</th>\n",
       "      <th>activity_level</th>\n",
       "    </tr>\n",
       "  </thead>\n",
       "  <tbody>\n",
       "    <tr>\n",
       "      <th>0</th>\n",
       "      <td>2539329</td>\n",
       "      <td>1</td>\n",
       "      <td>1</td>\n",
       "      <td>2</td>\n",
       "      <td>8</td>\n",
       "      <td>NaN</td>\n",
       "      <td>196.0</td>\n",
       "      <td>1.0</td>\n",
       "      <td>0.0</td>\n",
       "      <td>Soda</td>\n",
       "      <td>...</td>\n",
       "      <td>Female</td>\n",
       "      <td>Alabama</td>\n",
       "      <td>31</td>\n",
       "      <td>2/17/2019</td>\n",
       "      <td>3</td>\n",
       "      <td>married</td>\n",
       "      <td>40423</td>\n",
       "      <td>both</td>\n",
       "      <td>South</td>\n",
       "      <td>regular-activity</td>\n",
       "    </tr>\n",
       "    <tr>\n",
       "      <th>1</th>\n",
       "      <td>2398795</td>\n",
       "      <td>1</td>\n",
       "      <td>2</td>\n",
       "      <td>3</td>\n",
       "      <td>7</td>\n",
       "      <td>15.0</td>\n",
       "      <td>196.0</td>\n",
       "      <td>1.0</td>\n",
       "      <td>1.0</td>\n",
       "      <td>Soda</td>\n",
       "      <td>...</td>\n",
       "      <td>Female</td>\n",
       "      <td>Alabama</td>\n",
       "      <td>31</td>\n",
       "      <td>2/17/2019</td>\n",
       "      <td>3</td>\n",
       "      <td>married</td>\n",
       "      <td>40423</td>\n",
       "      <td>both</td>\n",
       "      <td>South</td>\n",
       "      <td>regular-activity</td>\n",
       "    </tr>\n",
       "    <tr>\n",
       "      <th>2</th>\n",
       "      <td>473747</td>\n",
       "      <td>1</td>\n",
       "      <td>3</td>\n",
       "      <td>3</td>\n",
       "      <td>12</td>\n",
       "      <td>21.0</td>\n",
       "      <td>196.0</td>\n",
       "      <td>1.0</td>\n",
       "      <td>1.0</td>\n",
       "      <td>Soda</td>\n",
       "      <td>...</td>\n",
       "      <td>Female</td>\n",
       "      <td>Alabama</td>\n",
       "      <td>31</td>\n",
       "      <td>2/17/2019</td>\n",
       "      <td>3</td>\n",
       "      <td>married</td>\n",
       "      <td>40423</td>\n",
       "      <td>both</td>\n",
       "      <td>South</td>\n",
       "      <td>regular-activity</td>\n",
       "    </tr>\n",
       "    <tr>\n",
       "      <th>3</th>\n",
       "      <td>2254736</td>\n",
       "      <td>1</td>\n",
       "      <td>4</td>\n",
       "      <td>4</td>\n",
       "      <td>7</td>\n",
       "      <td>29.0</td>\n",
       "      <td>196.0</td>\n",
       "      <td>1.0</td>\n",
       "      <td>1.0</td>\n",
       "      <td>Soda</td>\n",
       "      <td>...</td>\n",
       "      <td>Female</td>\n",
       "      <td>Alabama</td>\n",
       "      <td>31</td>\n",
       "      <td>2/17/2019</td>\n",
       "      <td>3</td>\n",
       "      <td>married</td>\n",
       "      <td>40423</td>\n",
       "      <td>both</td>\n",
       "      <td>South</td>\n",
       "      <td>regular-activity</td>\n",
       "    </tr>\n",
       "    <tr>\n",
       "      <th>4</th>\n",
       "      <td>431534</td>\n",
       "      <td>1</td>\n",
       "      <td>5</td>\n",
       "      <td>4</td>\n",
       "      <td>15</td>\n",
       "      <td>28.0</td>\n",
       "      <td>196.0</td>\n",
       "      <td>1.0</td>\n",
       "      <td>1.0</td>\n",
       "      <td>Soda</td>\n",
       "      <td>...</td>\n",
       "      <td>Female</td>\n",
       "      <td>Alabama</td>\n",
       "      <td>31</td>\n",
       "      <td>2/17/2019</td>\n",
       "      <td>3</td>\n",
       "      <td>married</td>\n",
       "      <td>40423</td>\n",
       "      <td>both</td>\n",
       "      <td>South</td>\n",
       "      <td>regular-activity</td>\n",
       "    </tr>\n",
       "  </tbody>\n",
       "</table>\n",
       "<p>5 rows × 33 columns</p>\n",
       "</div>"
      ],
      "text/plain": [
       "   order_id  user_id  order_number  orders_day_of_week  order_hour_of_day  \\\n",
       "0   2539329        1             1                   2                  8   \n",
       "1   2398795        1             2                   3                  7   \n",
       "2    473747        1             3                   3                 12   \n",
       "3   2254736        1             4                   4                  7   \n",
       "4    431534        1             5                   4                 15   \n",
       "\n",
       "   days_since_prior_order  product_id  add_to_cart_order  reordered  \\\n",
       "0                     NaN       196.0                1.0        0.0   \n",
       "1                    15.0       196.0                1.0        1.0   \n",
       "2                    21.0       196.0                1.0        1.0   \n",
       "3                    29.0       196.0                1.0        1.0   \n",
       "4                    28.0       196.0                1.0        1.0   \n",
       "\n",
       "  product_name  ...  gender    state  age date_joined dependants_number  \\\n",
       "0         Soda  ...  Female  Alabama   31   2/17/2019                 3   \n",
       "1         Soda  ...  Female  Alabama   31   2/17/2019                 3   \n",
       "2         Soda  ...  Female  Alabama   31   2/17/2019                 3   \n",
       "3         Soda  ...  Female  Alabama   31   2/17/2019                 3   \n",
       "4         Soda  ...  Female  Alabama   31   2/17/2019                 3   \n",
       "\n",
       "  family_status income  exists region    activity_level  \n",
       "0       married  40423    both  South  regular-activity  \n",
       "1       married  40423    both  South  regular-activity  \n",
       "2       married  40423    both  South  regular-activity  \n",
       "3       married  40423    both  South  regular-activity  \n",
       "4       married  40423    both  South  regular-activity  \n",
       "\n",
       "[5 rows x 33 columns]"
      ]
     },
     "execution_count": 17,
     "metadata": {},
     "output_type": "execute_result"
    }
   ],
   "source": [
    "# Check the new subset\n",
    "\n",
    "df_active_users.head()"
   ]
  },
  {
   "cell_type": "code",
   "execution_count": 20,
   "id": "7f3c7db0",
   "metadata": {},
   "outputs": [],
   "source": [
    "# Export the new subset df_active_users\n",
    "\n",
    "df_active_users.to_pickle(os.path.join(path, '02 Data', 'Prepared Data', 'active_users_sample.pkl'))"
   ]
  },
  {
   "cell_type": "markdown",
   "id": "3a323427",
   "metadata": {},
   "source": [
    "# 5. Customer profiling & 6. Visualization\n",
    "\n",
    "The marketing and business strategy units at Instacart want to create more-relevant marketing strategies for different products and are, thus, curious about customer profiling in their database. Create a profiling variable based on age, income, certain goods in the “department_id” column, and number of dependents. You might also use the “orders_day_of_the_week” and “order_hour_of_day” columns if you can think of a way they would impact customer profiles. (Hint: As an example, try thinking of what characteristics would lead you to the profile “Single adult” or “Young parent.”)"
   ]
  },
  {
   "cell_type": "code",
   "execution_count": 19,
   "id": "353b7b45",
   "metadata": {},
   "outputs": [
    {
     "data": {
      "text/html": [
       "<div>\n",
       "<style scoped>\n",
       "    .dataframe tbody tr th:only-of-type {\n",
       "        vertical-align: middle;\n",
       "    }\n",
       "\n",
       "    .dataframe tbody tr th {\n",
       "        vertical-align: top;\n",
       "    }\n",
       "\n",
       "    .dataframe thead th {\n",
       "        text-align: right;\n",
       "    }\n",
       "</style>\n",
       "<table border=\"1\" class=\"dataframe\">\n",
       "  <thead>\n",
       "    <tr style=\"text-align: right;\">\n",
       "      <th></th>\n",
       "      <th>order_id</th>\n",
       "      <th>user_id</th>\n",
       "      <th>order_number</th>\n",
       "      <th>orders_day_of_week</th>\n",
       "      <th>order_hour_of_day</th>\n",
       "      <th>days_since_prior_order</th>\n",
       "      <th>product_id</th>\n",
       "      <th>add_to_cart_order</th>\n",
       "      <th>reordered</th>\n",
       "      <th>aisle_id</th>\n",
       "      <th>department_id</th>\n",
       "      <th>prices</th>\n",
       "      <th>max_order</th>\n",
       "      <th>mean_prices</th>\n",
       "      <th>median_freq</th>\n",
       "      <th>age</th>\n",
       "      <th>dependants_number</th>\n",
       "      <th>income</th>\n",
       "    </tr>\n",
       "  </thead>\n",
       "  <tbody>\n",
       "    <tr>\n",
       "      <th>count</th>\n",
       "      <td>3.240416e+07</td>\n",
       "      <td>3.240416e+07</td>\n",
       "      <td>3.240416e+07</td>\n",
       "      <td>3.240416e+07</td>\n",
       "      <td>3.240416e+07</td>\n",
       "      <td>30328107.0</td>\n",
       "      <td>32404161.0</td>\n",
       "      <td>32404161.0</td>\n",
       "      <td>32404161.0</td>\n",
       "      <td>3.240416e+07</td>\n",
       "      <td>3.240416e+07</td>\n",
       "      <td>3.240416e+07</td>\n",
       "      <td>3.240416e+07</td>\n",
       "      <td>3.240416e+07</td>\n",
       "      <td>32404156.0</td>\n",
       "      <td>3.240416e+07</td>\n",
       "      <td>3.240416e+07</td>\n",
       "      <td>3.240416e+07</td>\n",
       "    </tr>\n",
       "    <tr>\n",
       "      <th>mean</th>\n",
       "      <td>1.710747e+06</td>\n",
       "      <td>1.029370e+05</td>\n",
       "      <td>1.714238e+01</td>\n",
       "      <td>2.738863e+00</td>\n",
       "      <td>1.342515e+01</td>\n",
       "      <td>NaN</td>\n",
       "      <td>NaN</td>\n",
       "      <td>NaN</td>\n",
       "      <td>NaN</td>\n",
       "      <td>6.449069e+01</td>\n",
       "      <td>9.919661e+00</td>\n",
       "      <td>NaN</td>\n",
       "      <td>3.305239e+01</td>\n",
       "      <td>9.825801e+00</td>\n",
       "      <td>NaN</td>\n",
       "      <td>4.946529e+01</td>\n",
       "      <td>1.501897e+00</td>\n",
       "      <td>9.943519e+04</td>\n",
       "    </tr>\n",
       "    <tr>\n",
       "      <th>std</th>\n",
       "      <td>9.872988e+05</td>\n",
       "      <td>5.946618e+04</td>\n",
       "      <td>1.753539e+01</td>\n",
       "      <td>2.090079e+00</td>\n",
       "      <td>4.246385e+00</td>\n",
       "      <td>0.0</td>\n",
       "      <td>NaN</td>\n",
       "      <td>0.0</td>\n",
       "      <td>0.0</td>\n",
       "      <td>4.843859e+01</td>\n",
       "      <td>6.281489e+00</td>\n",
       "      <td>NaN</td>\n",
       "      <td>2.515533e+01</td>\n",
       "      <td>2.690907e+01</td>\n",
       "      <td>0.0</td>\n",
       "      <td>1.848559e+01</td>\n",
       "      <td>1.118865e+00</td>\n",
       "      <td>4.305159e+04</td>\n",
       "    </tr>\n",
       "    <tr>\n",
       "      <th>min</th>\n",
       "      <td>2.000000e+00</td>\n",
       "      <td>1.000000e+00</td>\n",
       "      <td>1.000000e+00</td>\n",
       "      <td>0.000000e+00</td>\n",
       "      <td>0.000000e+00</td>\n",
       "      <td>0.0</td>\n",
       "      <td>1.0</td>\n",
       "      <td>1.0</td>\n",
       "      <td>0.0</td>\n",
       "      <td>-1.280000e+02</td>\n",
       "      <td>1.000000e+00</td>\n",
       "      <td>1.000000e+00</td>\n",
       "      <td>1.000000e+00</td>\n",
       "      <td>1.000000e+00</td>\n",
       "      <td>0.0</td>\n",
       "      <td>1.800000e+01</td>\n",
       "      <td>0.000000e+00</td>\n",
       "      <td>2.590300e+04</td>\n",
       "    </tr>\n",
       "    <tr>\n",
       "      <th>25%</th>\n",
       "      <td>8.559470e+05</td>\n",
       "      <td>5.142200e+04</td>\n",
       "      <td>5.000000e+00</td>\n",
       "      <td>1.000000e+00</td>\n",
       "      <td>1.000000e+01</td>\n",
       "      <td>5.0</td>\n",
       "      <td>13544.0</td>\n",
       "      <td>3.0</td>\n",
       "      <td>0.0</td>\n",
       "      <td>2.400000e+01</td>\n",
       "      <td>4.000000e+00</td>\n",
       "      <td>4.199219e+00</td>\n",
       "      <td>1.300000e+01</td>\n",
       "      <td>7.386535e+00</td>\n",
       "      <td>6.0</td>\n",
       "      <td>3.300000e+01</td>\n",
       "      <td>1.000000e+00</td>\n",
       "      <td>6.700200e+04</td>\n",
       "    </tr>\n",
       "    <tr>\n",
       "      <th>50%</th>\n",
       "      <td>1.711053e+06</td>\n",
       "      <td>1.026140e+05</td>\n",
       "      <td>1.100000e+01</td>\n",
       "      <td>3.000000e+00</td>\n",
       "      <td>1.300000e+01</td>\n",
       "      <td>8.0</td>\n",
       "      <td>25296.0</td>\n",
       "      <td>6.0</td>\n",
       "      <td>1.0</td>\n",
       "      <td>7.900000e+01</td>\n",
       "      <td>9.000000e+00</td>\n",
       "      <td>7.398438e+00</td>\n",
       "      <td>2.600000e+01</td>\n",
       "      <td>7.823226e+00</td>\n",
       "      <td>8.0</td>\n",
       "      <td>4.900000e+01</td>\n",
       "      <td>2.000000e+00</td>\n",
       "      <td>9.661500e+04</td>\n",
       "    </tr>\n",
       "    <tr>\n",
       "      <th>75%</th>\n",
       "      <td>2.565504e+06</td>\n",
       "      <td>1.543880e+05</td>\n",
       "      <td>2.400000e+01</td>\n",
       "      <td>5.000000e+00</td>\n",
       "      <td>1.600000e+01</td>\n",
       "      <td>15.0</td>\n",
       "      <td>37952.0</td>\n",
       "      <td>11.0</td>\n",
       "      <td>1.0</td>\n",
       "      <td>1.000000e+02</td>\n",
       "      <td>1.600000e+01</td>\n",
       "      <td>1.129688e+01</td>\n",
       "      <td>4.700000e+01</td>\n",
       "      <td>8.251424e+00</td>\n",
       "      <td>13.0</td>\n",
       "      <td>6.500000e+01</td>\n",
       "      <td>3.000000e+00</td>\n",
       "      <td>1.279080e+05</td>\n",
       "    </tr>\n",
       "    <tr>\n",
       "      <th>max</th>\n",
       "      <td>3.421083e+06</td>\n",
       "      <td>2.062090e+05</td>\n",
       "      <td>9.900000e+01</td>\n",
       "      <td>6.000000e+00</td>\n",
       "      <td>2.300000e+01</td>\n",
       "      <td>30.0</td>\n",
       "      <td>49696.0</td>\n",
       "      <td>145.0</td>\n",
       "      <td>1.0</td>\n",
       "      <td>1.270000e+02</td>\n",
       "      <td>2.100000e+01</td>\n",
       "      <td>1.489600e+04</td>\n",
       "      <td>9.900000e+01</td>\n",
       "      <td>2.410052e+03</td>\n",
       "      <td>30.0</td>\n",
       "      <td>8.100000e+01</td>\n",
       "      <td>3.000000e+00</td>\n",
       "      <td>5.939010e+05</td>\n",
       "    </tr>\n",
       "  </tbody>\n",
       "</table>\n",
       "</div>"
      ],
      "text/plain": [
       "           order_id       user_id  order_number  orders_day_of_week  \\\n",
       "count  3.240416e+07  3.240416e+07  3.240416e+07        3.240416e+07   \n",
       "mean   1.710747e+06  1.029370e+05  1.714238e+01        2.738863e+00   \n",
       "std    9.872988e+05  5.946618e+04  1.753539e+01        2.090079e+00   \n",
       "min    2.000000e+00  1.000000e+00  1.000000e+00        0.000000e+00   \n",
       "25%    8.559470e+05  5.142200e+04  5.000000e+00        1.000000e+00   \n",
       "50%    1.711053e+06  1.026140e+05  1.100000e+01        3.000000e+00   \n",
       "75%    2.565504e+06  1.543880e+05  2.400000e+01        5.000000e+00   \n",
       "max    3.421083e+06  2.062090e+05  9.900000e+01        6.000000e+00   \n",
       "\n",
       "       order_hour_of_day  days_since_prior_order  product_id  \\\n",
       "count       3.240416e+07              30328107.0  32404161.0   \n",
       "mean        1.342515e+01                     NaN         NaN   \n",
       "std         4.246385e+00                     0.0         NaN   \n",
       "min         0.000000e+00                     0.0         1.0   \n",
       "25%         1.000000e+01                     5.0     13544.0   \n",
       "50%         1.300000e+01                     8.0     25296.0   \n",
       "75%         1.600000e+01                    15.0     37952.0   \n",
       "max         2.300000e+01                    30.0     49696.0   \n",
       "\n",
       "       add_to_cart_order   reordered      aisle_id  department_id  \\\n",
       "count         32404161.0  32404161.0  3.240416e+07   3.240416e+07   \n",
       "mean                 NaN         NaN  6.449069e+01   9.919661e+00   \n",
       "std                  0.0         0.0  4.843859e+01   6.281489e+00   \n",
       "min                  1.0         0.0 -1.280000e+02   1.000000e+00   \n",
       "25%                  3.0         0.0  2.400000e+01   4.000000e+00   \n",
       "50%                  6.0         1.0  7.900000e+01   9.000000e+00   \n",
       "75%                 11.0         1.0  1.000000e+02   1.600000e+01   \n",
       "max                145.0         1.0  1.270000e+02   2.100000e+01   \n",
       "\n",
       "             prices     max_order   mean_prices  median_freq           age  \\\n",
       "count  3.240416e+07  3.240416e+07  3.240416e+07   32404156.0  3.240416e+07   \n",
       "mean            NaN  3.305239e+01  9.825801e+00          NaN  4.946529e+01   \n",
       "std             NaN  2.515533e+01  2.690907e+01          0.0  1.848559e+01   \n",
       "min    1.000000e+00  1.000000e+00  1.000000e+00          0.0  1.800000e+01   \n",
       "25%    4.199219e+00  1.300000e+01  7.386535e+00          6.0  3.300000e+01   \n",
       "50%    7.398438e+00  2.600000e+01  7.823226e+00          8.0  4.900000e+01   \n",
       "75%    1.129688e+01  4.700000e+01  8.251424e+00         13.0  6.500000e+01   \n",
       "max    1.489600e+04  9.900000e+01  2.410052e+03         30.0  8.100000e+01   \n",
       "\n",
       "       dependants_number        income  \n",
       "count       3.240416e+07  3.240416e+07  \n",
       "mean        1.501897e+00  9.943519e+04  \n",
       "std         1.118865e+00  4.305159e+04  \n",
       "min         0.000000e+00  2.590300e+04  \n",
       "25%         1.000000e+00  6.700200e+04  \n",
       "50%         2.000000e+00  9.661500e+04  \n",
       "75%         3.000000e+00  1.279080e+05  \n",
       "max         3.000000e+00  5.939010e+05  "
      ]
     },
     "execution_count": 19,
     "metadata": {},
     "output_type": "execute_result"
    }
   ],
   "source": [
    "df.describe()"
   ]
  },
  {
   "cell_type": "markdown",
   "id": "5070a68f",
   "metadata": {},
   "source": [
    "## 5.1 Age profile\n"
   ]
  },
  {
   "cell_type": "code",
   "execution_count": 5,
   "id": "7c4cd73c",
   "metadata": {},
   "outputs": [],
   "source": [
    "df.loc[df['age']<=40, 'age_profile'] = '18-40'\n",
    "df.loc[(df['age']>40) & (df['age']<= 60), 'age_profile'] = '41-60'\n",
    "df.loc[df['age']>60, 'age_profile'] = '60 +'"
   ]
  },
  {
   "cell_type": "code",
   "execution_count": 42,
   "id": "0c7a001d",
   "metadata": {},
   "outputs": [
    {
     "data": {
      "text/plain": [
       "18-40    11669778\n",
       "60 +     10582629\n",
       "41-60    10151754\n",
       "Name: age_profile, dtype: int64"
      ]
     },
     "execution_count": 42,
     "metadata": {},
     "output_type": "execute_result"
    }
   ],
   "source": [
    "df['age_profile'].value_counts(dropna = False)"
   ]
  },
  {
   "cell_type": "code",
   "execution_count": 6,
   "id": "35161647",
   "metadata": {},
   "outputs": [
    {
     "data": {
      "image/png": "[encoded data removed]",
      "text/plain": [
       "<Figure size 640x480 with 1 Axes>"
      ]
     },
     "metadata": {},
     "output_type": "display_data"
    }
   ],
   "source": [
    "# Create Pie Chart for 'age_profile'\n",
    "\n",
    "age_profile_pie = df['age_profile'].value_counts().plot.pie(title ='Age Profile', label = '', autopct=('%1.f%%'))"
   ]
  },
  {
   "cell_type": "markdown",
   "id": "840f36eb",
   "metadata": {},
   "source": [
    "There is not much difference between the age categories of the clients, the highest percentage of 36% is represented by clients between 18-40 years old."
   ]
  },
  {
   "cell_type": "code",
   "execution_count": 40,
   "id": "98b7f60b",
   "metadata": {},
   "outputs": [],
   "source": [
    "# Export the  Pie Chart for 'age_profile'\n",
    "\n",
    "age_profile_pie.figure.savefig(os.path.join(path,'04 Analysis','Visualizations', 'age_profile_pie.png'))"
   ]
  },
  {
   "cell_type": "markdown",
   "id": "b0a02b95",
   "metadata": {},
   "source": [
    "## 5.2 Income Profile"
   ]
  },
  {
   "cell_type": "code",
   "execution_count": 7,
   "id": "fe9b056c",
   "metadata": {},
   "outputs": [
    {
     "data": {
      "text/plain": [
       "50k - 150k    24759749\n",
       "150k+          4050329\n",
       "<=50k          3594083\n",
       "Name: income_profile, dtype: int64"
      ]
     },
     "execution_count": 7,
     "metadata": {},
     "output_type": "execute_result"
    }
   ],
   "source": [
    "# Create income_profile\n",
    "\n",
    "df.loc[(df['income'] <= 50000), 'income_profile'] = '<=50k'\n",
    "df.loc[(df['income'] > 50000) & (df['income'] <= 150000), 'income_profile'] = '50k - 150k'\n",
    "df.loc[(df['income'] > 150000), 'income_profile'] = '150k+'\n",
    "df['income_profile'].value_counts(dropna = False)"
   ]
  },
  {
   "cell_type": "code",
   "execution_count": 8,
   "id": "8590932c",
   "metadata": {},
   "outputs": [
    {
     "data": {
      "image/png": "[encoded data removed]",
      "text/plain": [
       "<Figure size 640x480 with 1 Axes>"
      ]
     },
     "metadata": {},
     "output_type": "display_data"
    }
   ],
   "source": [
    "# Create Pie Chart for 'income_profile'\n",
    "\n",
    "income_profile_pie = df['income_profile'].value_counts().plot.pie(title ='Income Profile', label = '', autopct=('%1.f%%'))\n"
   ]
  },
  {
   "cell_type": "code",
   "execution_count": 9,
   "id": "180bc9fa",
   "metadata": {},
   "outputs": [],
   "source": [
    "# Export the  Pie Chart for 'income_profile'\n",
    "\n",
    "income_profile_pie.figure.savefig(os.path.join(path,'04 Analysis','Visualizations', 'income_profile_pie.png'))"
   ]
  },
  {
   "cell_type": "markdown",
   "id": "b759956d",
   "metadata": {},
   "source": [
    "### Customers in the income category of 50k-150k are the highest in number."
   ]
  },
  {
   "cell_type": "markdown",
   "id": "f1cf7718",
   "metadata": {},
   "source": [
    "# 5.3 Customer Profile  based on number of dependants\n"
   ]
  },
  {
   "cell_type": "code",
   "execution_count": 27,
   "id": "e44396aa",
   "metadata": {},
   "outputs": [
    {
     "data": {
      "text/plain": [
       "Family          24306856\n",
       "Single Adult     8097305\n",
       "Name: family_profile, dtype: int64"
      ]
     },
     "execution_count": 27,
     "metadata": {},
     "output_type": "execute_result"
    }
   ],
   "source": [
    "df.loc[df['dependants_number']== 0, 'family_profile'] = 'Single Adult'\n",
    "df.loc[df['dependants_number']!= 0, 'family_profile'] = 'Family'\n",
    "df['family_profile'].value_counts(dropna = False)"
   ]
  },
  {
   "cell_type": "code",
   "execution_count": 28,
   "id": "78d0f425",
   "metadata": {},
   "outputs": [
    {
     "data": {
      "image/png": "[encoded data removed]",
      "text/plain": [
       "<Figure size 640x480 with 1 Axes>"
      ]
     },
     "metadata": {},
     "output_type": "display_data"
    }
   ],
   "source": [
    "# Create Pie Chart for 'age_profile'\n",
    "\n",
    "family_profile_pie = df['family_profile'].value_counts().plot.pie(title ='Family Profile', label = '', autopct=('%1.f%%'))"
   ]
  },
  {
   "cell_type": "markdown",
   "id": "be926fdb",
   "metadata": {},
   "source": [
    "#### Only 25% of clients are single adults, 75% are family clients"
   ]
  },
  {
   "cell_type": "code",
   "execution_count": 30,
   "id": "899d8dab",
   "metadata": {},
   "outputs": [],
   "source": [
    "# Export the Pie Chart chart by Family Profile\n",
    "\n",
    "family_profile_pie.figure.savefig(os.path.join(path,'04 Analysis','Visualizations', 'family_profile_pie.png'))\n",
    "\n"
   ]
  },
  {
   "cell_type": "markdown",
   "id": "fdadc44e",
   "metadata": {},
   "source": [
    "## 5.4 Profiling day of the week"
   ]
  },
  {
   "cell_type": "code",
   "execution_count": 32,
   "id": "197ec1a4",
   "metadata": {},
   "outputs": [
    {
     "data": {
      "text/plain": [
       "0    6204090\n",
       "1    5660099\n",
       "6    4496415\n",
       "2    4213729\n",
       "5    4205663\n",
       "3    3840449\n",
       "4    3783716\n",
       "Name: orders_day_of_week, dtype: int64"
      ]
     },
     "execution_count": 32,
     "metadata": {},
     "output_type": "execute_result"
    }
   ],
   "source": [
    "df['orders_day_of_week'].value_counts(dropna = False)"
   ]
  },
  {
   "cell_type": "code",
   "execution_count": 35,
   "id": "8a9f05f1",
   "metadata": {},
   "outputs": [
    {
     "data": {
      "image/png": "[encoded data removed]",
      "text/plain": [
       "<Figure size 640x480 with 1 Axes>"
      ]
     },
     "metadata": {},
     "output_type": "display_data"
    }
   ],
   "source": [
    "# Create bar chart for 'orders_day_of_week'\n",
    "\n",
    "bar_day= df['orders_day_of_week'].value_counts().plot.bar()"
   ]
  },
  {
   "cell_type": "markdown",
   "id": "f583c013",
   "metadata": {},
   "source": [
    "### Most orders are made on Saturday and Sunday"
   ]
  },
  {
   "cell_type": "code",
   "execution_count": 36,
   "id": "0dd866d5",
   "metadata": {},
   "outputs": [],
   "source": [
    "# Export the Bar chart \n",
    "\n",
    "bar_day.figure.savefig(os.path.join(path,'04 Analysis','Visualizations', 'bar_day_of_the_week.png'))"
   ]
  },
  {
   "cell_type": "markdown",
   "id": "ba2ac9bd",
   "metadata": {},
   "source": [
    "# 7. Aggregate the max, mean, and min variables on a customer-profile level for usage frequency and expenditure\n"
   ]
  },
  {
   "cell_type": "code",
   "execution_count": 29,
   "id": "b1f9e2f9",
   "metadata": {},
   "outputs": [],
   "source": [
    "# Create a new df that include only 'prices' and 'user_id' columns\n",
    "df_prices = df[['prices','user_id']]\n"
   ]
  },
  {
   "cell_type": "code",
   "execution_count": 30,
   "id": "7c860e1a",
   "metadata": {},
   "outputs": [
    {
     "data": {
      "text/html": [
       "<div>\n",
       "<style scoped>\n",
       "    .dataframe tbody tr th:only-of-type {\n",
       "        vertical-align: middle;\n",
       "    }\n",
       "\n",
       "    .dataframe tbody tr th {\n",
       "        vertical-align: top;\n",
       "    }\n",
       "\n",
       "    .dataframe thead th {\n",
       "        text-align: right;\n",
       "    }\n",
       "</style>\n",
       "<table border=\"1\" class=\"dataframe\">\n",
       "  <thead>\n",
       "    <tr style=\"text-align: right;\">\n",
       "      <th></th>\n",
       "      <th>prices</th>\n",
       "      <th>user_id</th>\n",
       "    </tr>\n",
       "  </thead>\n",
       "  <tbody>\n",
       "    <tr>\n",
       "      <th>7805</th>\n",
       "      <td>14896.0</td>\n",
       "      <td>1519</td>\n",
       "    </tr>\n",
       "    <tr>\n",
       "      <th>7806</th>\n",
       "      <td>14896.0</td>\n",
       "      <td>1519</td>\n",
       "    </tr>\n",
       "    <tr>\n",
       "      <th>15143</th>\n",
       "      <td>14896.0</td>\n",
       "      <td>2409</td>\n",
       "    </tr>\n",
       "    <tr>\n",
       "      <th>20496</th>\n",
       "      <td>14896.0</td>\n",
       "      <td>3793</td>\n",
       "    </tr>\n",
       "    <tr>\n",
       "      <th>22487</th>\n",
       "      <td>14896.0</td>\n",
       "      <td>3819</td>\n",
       "    </tr>\n",
       "    <tr>\n",
       "      <th>...</th>\n",
       "      <td>...</td>\n",
       "      <td>...</td>\n",
       "    </tr>\n",
       "    <tr>\n",
       "      <th>32271734</th>\n",
       "      <td>14896.0</td>\n",
       "      <td>136909</td>\n",
       "    </tr>\n",
       "    <tr>\n",
       "      <th>32271771</th>\n",
       "      <td>14896.0</td>\n",
       "      <td>156508</td>\n",
       "    </tr>\n",
       "    <tr>\n",
       "      <th>32271772</th>\n",
       "      <td>14896.0</td>\n",
       "      <td>156508</td>\n",
       "    </tr>\n",
       "    <tr>\n",
       "      <th>32271823</th>\n",
       "      <td>14896.0</td>\n",
       "      <td>189019</td>\n",
       "    </tr>\n",
       "    <tr>\n",
       "      <th>32271864</th>\n",
       "      <td>14896.0</td>\n",
       "      <td>201533</td>\n",
       "    </tr>\n",
       "  </tbody>\n",
       "</table>\n",
       "<p>4429 rows × 2 columns</p>\n",
       "</div>"
      ],
      "text/plain": [
       "           prices  user_id\n",
       "7805      14896.0     1519\n",
       "7806      14896.0     1519\n",
       "15143     14896.0     2409\n",
       "20496     14896.0     3793\n",
       "22487     14896.0     3819\n",
       "...           ...      ...\n",
       "32271734  14896.0   136909\n",
       "32271771  14896.0   156508\n",
       "32271772  14896.0   156508\n",
       "32271823  14896.0   189019\n",
       "32271864  14896.0   201533\n",
       "\n",
       "[4429 rows x 2 columns]"
      ]
     },
     "execution_count": 30,
     "metadata": {},
     "output_type": "execute_result"
    }
   ],
   "source": [
    "# Check whether are any values above a certain threshhold in data\n",
    "\n",
    "df_prices.loc[df_prices['prices']>100]"
   ]
  },
  {
   "cell_type": "code",
   "execution_count": 31,
   "id": "edc9df17",
   "metadata": {},
   "outputs": [],
   "source": [
    "# Mark the values for prices>100 as missing (NaNs)\n",
    "df.loc[df['prices'] >100, 'prices'] = np.nan"
   ]
  },
  {
   "cell_type": "code",
   "execution_count": 32,
   "id": "4703e20a",
   "metadata": {},
   "outputs": [
    {
     "data": {
      "text/plain": [
       "25.0"
      ]
     },
     "execution_count": 32,
     "metadata": {},
     "output_type": "execute_result"
    }
   ],
   "source": [
    "df['prices'].max()"
   ]
  },
  {
   "cell_type": "markdown",
   "id": "5389d933",
   "metadata": {},
   "source": [
    "## 7.1 Summary statistics of AGE across order frequency and expenditure\n"
   ]
  },
  {
   "cell_type": "code",
   "execution_count": 33,
   "id": "99554d59",
   "metadata": {},
   "outputs": [
    {
     "data": {
      "text/html": [
       "<div>\n",
       "<style scoped>\n",
       "    .dataframe tbody tr th:only-of-type {\n",
       "        vertical-align: middle;\n",
       "    }\n",
       "\n",
       "    .dataframe tbody tr th {\n",
       "        vertical-align: top;\n",
       "    }\n",
       "\n",
       "    .dataframe thead tr th {\n",
       "        text-align: left;\n",
       "    }\n",
       "\n",
       "    .dataframe thead tr:last-of-type th {\n",
       "        text-align: right;\n",
       "    }\n",
       "</style>\n",
       "<table border=\"1\" class=\"dataframe\">\n",
       "  <thead>\n",
       "    <tr>\n",
       "      <th></th>\n",
       "      <th colspan=\"3\" halign=\"left\">days_since_prior_order</th>\n",
       "      <th colspan=\"4\" halign=\"left\">prices</th>\n",
       "    </tr>\n",
       "    <tr>\n",
       "      <th></th>\n",
       "      <th>min</th>\n",
       "      <th>max</th>\n",
       "      <th>mean</th>\n",
       "      <th>min</th>\n",
       "      <th>max</th>\n",
       "      <th>mean</th>\n",
       "      <th>sum</th>\n",
       "    </tr>\n",
       "    <tr>\n",
       "      <th>age_profile</th>\n",
       "      <th></th>\n",
       "      <th></th>\n",
       "      <th></th>\n",
       "      <th></th>\n",
       "      <th></th>\n",
       "      <th></th>\n",
       "      <th></th>\n",
       "    </tr>\n",
       "  </thead>\n",
       "  <tbody>\n",
       "    <tr>\n",
       "      <th>18-40</th>\n",
       "      <td>0.0</td>\n",
       "      <td>30.0</td>\n",
       "      <td>11.109763</td>\n",
       "      <td>1.0</td>\n",
       "      <td>25.0</td>\n",
       "      <td>7.786426</td>\n",
       "      <td>90853640.0</td>\n",
       "    </tr>\n",
       "    <tr>\n",
       "      <th>41-60</th>\n",
       "      <td>0.0</td>\n",
       "      <td>30.0</td>\n",
       "      <td>11.119156</td>\n",
       "      <td>1.0</td>\n",
       "      <td>25.0</td>\n",
       "      <td>7.790773</td>\n",
       "      <td>79079168.0</td>\n",
       "    </tr>\n",
       "    <tr>\n",
       "      <th>60 +</th>\n",
       "      <td>0.0</td>\n",
       "      <td>30.0</td>\n",
       "      <td>11.083321</td>\n",
       "      <td>1.0</td>\n",
       "      <td>25.0</td>\n",
       "      <td>7.795849</td>\n",
       "      <td>82489136.0</td>\n",
       "    </tr>\n",
       "  </tbody>\n",
       "</table>\n",
       "</div>"
      ],
      "text/plain": [
       "            days_since_prior_order                  prices                  \\\n",
       "                               min   max       mean    min   max      mean   \n",
       "age_profile                                                                  \n",
       "18-40                          0.0  30.0  11.109763    1.0  25.0  7.786426   \n",
       "41-60                          0.0  30.0  11.119156    1.0  25.0  7.790773   \n",
       "60 +                           0.0  30.0  11.083321    1.0  25.0  7.795849   \n",
       "\n",
       "                         \n",
       "                    sum  \n",
       "age_profile              \n",
       "18-40        90853640.0  \n",
       "41-60        79079168.0  \n",
       "60 +         82489136.0  "
      ]
     },
     "execution_count": 33,
     "metadata": {},
     "output_type": "execute_result"
    }
   ],
   "source": [
    "# Summary statistics of age across order frequency and expenditure\n",
    "\n",
    "age_sums = df.groupby(['age_profile']).agg({'days_since_prior_order' : ['min', 'max', 'mean'], 'prices' : ['min', 'max', 'mean', 'sum']})\n",
    "age_sums"
   ]
  },
  {
   "cell_type": "markdown",
   "id": "cb8a94d5",
   "metadata": {},
   "source": [
    "#### Customers of all age groups order at an average interval of 11 days. Customers between the ages of 18-40 contribute the most to revenue, having the highest total amount of orders.\n"
   ]
  },
  {
   "cell_type": "markdown",
   "id": "1066d456",
   "metadata": {},
   "source": [
    "## 7.2 Summary statistics of INCOME across order frequency and expenditure"
   ]
  },
  {
   "cell_type": "code",
   "execution_count": 37,
   "id": "ec5946b4",
   "metadata": {},
   "outputs": [
    {
     "data": {
      "text/html": [
       "<div>\n",
       "<style scoped>\n",
       "    .dataframe tbody tr th:only-of-type {\n",
       "        vertical-align: middle;\n",
       "    }\n",
       "\n",
       "    .dataframe tbody tr th {\n",
       "        vertical-align: top;\n",
       "    }\n",
       "\n",
       "    .dataframe thead tr th {\n",
       "        text-align: left;\n",
       "    }\n",
       "\n",
       "    .dataframe thead tr:last-of-type th {\n",
       "        text-align: right;\n",
       "    }\n",
       "</style>\n",
       "<table border=\"1\" class=\"dataframe\">\n",
       "  <thead>\n",
       "    <tr>\n",
       "      <th></th>\n",
       "      <th colspan=\"3\" halign=\"left\">days_since_prior_order</th>\n",
       "      <th colspan=\"4\" halign=\"left\">prices</th>\n",
       "    </tr>\n",
       "    <tr>\n",
       "      <th></th>\n",
       "      <th>min</th>\n",
       "      <th>max</th>\n",
       "      <th>mean</th>\n",
       "      <th>min</th>\n",
       "      <th>max</th>\n",
       "      <th>mean</th>\n",
       "      <th>sum</th>\n",
       "    </tr>\n",
       "    <tr>\n",
       "      <th>income_profile</th>\n",
       "      <th></th>\n",
       "      <th></th>\n",
       "      <th></th>\n",
       "      <th></th>\n",
       "      <th></th>\n",
       "      <th></th>\n",
       "      <th></th>\n",
       "    </tr>\n",
       "  </thead>\n",
       "  <tbody>\n",
       "    <tr>\n",
       "      <th>150k+</th>\n",
       "      <td>0.0</td>\n",
       "      <td>30.0</td>\n",
       "      <td>10.941355</td>\n",
       "      <td>1.0</td>\n",
       "      <td>14896.0</td>\n",
       "      <td>20.279083</td>\n",
       "      <td>82136960.0</td>\n",
       "    </tr>\n",
       "    <tr>\n",
       "      <th>50k - 150k</th>\n",
       "      <td>0.0</td>\n",
       "      <td>30.0</td>\n",
       "      <td>11.061335</td>\n",
       "      <td>1.0</td>\n",
       "      <td>14896.0</td>\n",
       "      <td>8.569968</td>\n",
       "      <td>212190256.0</td>\n",
       "    </tr>\n",
       "    <tr>\n",
       "      <th>&lt;=50k</th>\n",
       "      <td>0.0</td>\n",
       "      <td>30.0</td>\n",
       "      <td>11.587220</td>\n",
       "      <td>1.0</td>\n",
       "      <td>25.0</td>\n",
       "      <td>6.696874</td>\n",
       "      <td>24069120.0</td>\n",
       "    </tr>\n",
       "  </tbody>\n",
       "</table>\n",
       "</div>"
      ],
      "text/plain": [
       "               days_since_prior_order                  prices           \\\n",
       "                                  min   max       mean    min      max   \n",
       "income_profile                                                           \n",
       "150k+                             0.0  30.0  10.941355    1.0  14896.0   \n",
       "50k - 150k                        0.0  30.0  11.061335    1.0  14896.0   \n",
       "<=50k                             0.0  30.0  11.587220    1.0     25.0   \n",
       "\n",
       "                                        \n",
       "                     mean          sum  \n",
       "income_profile                          \n",
       "150k+           20.279083   82136960.0  \n",
       "50k - 150k       8.569968  212190256.0  \n",
       "<=50k            6.696874   24069120.0  "
      ]
     },
     "execution_count": 37,
     "metadata": {},
     "output_type": "execute_result"
    }
   ],
   "source": [
    "# Summary statistics of age across order frequency and expenditure\n",
    "\n",
    "age_sums = df.groupby(['income_profile']).agg({'days_since_prior_order' : ['min', 'max', 'mean'], 'prices' : ['min', 'max', 'mean', 'sum']})\n",
    "age_sums"
   ]
  },
  {
   "cell_type": "markdown",
   "id": "d23b6ed9",
   "metadata": {},
   "source": [
    "Income profile has no influence on the frequency of purchase, 11 days being the average interval of order for all profiles. Customers with incomes of 50K-150 K contribute with the most revenue."
   ]
  },
  {
   "cell_type": "markdown",
   "id": "22e6f6c1",
   "metadata": {},
   "source": [
    "## 7.3 Summary statistics of FAMILY PROFILE across order frequency and expenditure"
   ]
  },
  {
   "cell_type": "code",
   "execution_count": 39,
   "id": "d4a4306b",
   "metadata": {},
   "outputs": [
    {
     "data": {
      "text/html": [
       "<div>\n",
       "<style scoped>\n",
       "    .dataframe tbody tr th:only-of-type {\n",
       "        vertical-align: middle;\n",
       "    }\n",
       "\n",
       "    .dataframe tbody tr th {\n",
       "        vertical-align: top;\n",
       "    }\n",
       "\n",
       "    .dataframe thead tr th {\n",
       "        text-align: left;\n",
       "    }\n",
       "\n",
       "    .dataframe thead tr:last-of-type th {\n",
       "        text-align: right;\n",
       "    }\n",
       "</style>\n",
       "<table border=\"1\" class=\"dataframe\">\n",
       "  <thead>\n",
       "    <tr>\n",
       "      <th></th>\n",
       "      <th colspan=\"3\" halign=\"left\">days_since_prior_order</th>\n",
       "      <th colspan=\"4\" halign=\"left\">prices</th>\n",
       "    </tr>\n",
       "    <tr>\n",
       "      <th></th>\n",
       "      <th>min</th>\n",
       "      <th>max</th>\n",
       "      <th>mean</th>\n",
       "      <th>min</th>\n",
       "      <th>max</th>\n",
       "      <th>mean</th>\n",
       "      <th>sum</th>\n",
       "    </tr>\n",
       "    <tr>\n",
       "      <th>family_profile</th>\n",
       "      <th></th>\n",
       "      <th></th>\n",
       "      <th></th>\n",
       "      <th></th>\n",
       "      <th></th>\n",
       "      <th></th>\n",
       "      <th></th>\n",
       "    </tr>\n",
       "  </thead>\n",
       "  <tbody>\n",
       "    <tr>\n",
       "      <th>Family</th>\n",
       "      <td>0.0</td>\n",
       "      <td>30.0</td>\n",
       "      <td>11.111821</td>\n",
       "      <td>1.0</td>\n",
       "      <td>14896.0</td>\n",
       "      <td>9.873128</td>\n",
       "      <td>239984704.0</td>\n",
       "    </tr>\n",
       "    <tr>\n",
       "      <th>Single Adult</th>\n",
       "      <td>0.0</td>\n",
       "      <td>30.0</td>\n",
       "      <td>11.080810</td>\n",
       "      <td>1.0</td>\n",
       "      <td>14896.0</td>\n",
       "      <td>9.683669</td>\n",
       "      <td>78411624.0</td>\n",
       "    </tr>\n",
       "  </tbody>\n",
       "</table>\n",
       "</div>"
      ],
      "text/plain": [
       "               days_since_prior_order                  prices           \\\n",
       "                                  min   max       mean    min      max   \n",
       "family_profile                                                           \n",
       "Family                            0.0  30.0  11.111821    1.0  14896.0   \n",
       "Single Adult                      0.0  30.0  11.080810    1.0  14896.0   \n",
       "\n",
       "                                       \n",
       "                    mean          sum  \n",
       "family_profile                         \n",
       "Family          9.873128  239984704.0  \n",
       "Single Adult    9.683669   78411624.0  "
      ]
     },
     "execution_count": 39,
     "metadata": {},
     "output_type": "execute_result"
    }
   ],
   "source": [
    "# Summary statistics of day of week across order frequency and expenditure\n",
    "\n",
    "family_sums = df.groupby(['family_profile']).agg({'days_since_prior_order' : ['min', 'max', 'mean'], 'prices' : ['min', 'max', 'mean', 'sum']})\n",
    "family_sums"
   ]
  },
  {
   "cell_type": "markdown",
   "id": "c2b3cdca",
   "metadata": {},
   "source": [
    "Family profile has no influence on the frequency of purchase, 11 days being the average interval of order for all profiles. Customers with family contribute with the most revenue."
   ]
  },
  {
   "cell_type": "markdown",
   "id": "eccffb01",
   "metadata": {},
   "source": [
    "## 7.4 Summary statistics of DAY OF WEEK across order frequency and expenditure\n"
   ]
  },
  {
   "cell_type": "code",
   "execution_count": 38,
   "id": "d2238f23",
   "metadata": {},
   "outputs": [
    {
     "data": {
      "text/html": [
       "<div>\n",
       "<style scoped>\n",
       "    .dataframe tbody tr th:only-of-type {\n",
       "        vertical-align: middle;\n",
       "    }\n",
       "\n",
       "    .dataframe tbody tr th {\n",
       "        vertical-align: top;\n",
       "    }\n",
       "\n",
       "    .dataframe thead tr th {\n",
       "        text-align: left;\n",
       "    }\n",
       "\n",
       "    .dataframe thead tr:last-of-type th {\n",
       "        text-align: right;\n",
       "    }\n",
       "</style>\n",
       "<table border=\"1\" class=\"dataframe\">\n",
       "  <thead>\n",
       "    <tr>\n",
       "      <th></th>\n",
       "      <th colspan=\"3\" halign=\"left\">days_since_prior_order</th>\n",
       "      <th colspan=\"4\" halign=\"left\">prices</th>\n",
       "    </tr>\n",
       "    <tr>\n",
       "      <th></th>\n",
       "      <th>min</th>\n",
       "      <th>max</th>\n",
       "      <th>mean</th>\n",
       "      <th>min</th>\n",
       "      <th>max</th>\n",
       "      <th>mean</th>\n",
       "      <th>sum</th>\n",
       "    </tr>\n",
       "    <tr>\n",
       "      <th>orders_day_of_week</th>\n",
       "      <th></th>\n",
       "      <th></th>\n",
       "      <th></th>\n",
       "      <th></th>\n",
       "      <th></th>\n",
       "      <th></th>\n",
       "      <th></th>\n",
       "    </tr>\n",
       "  </thead>\n",
       "  <tbody>\n",
       "    <tr>\n",
       "      <th>0</th>\n",
       "      <td>0.0</td>\n",
       "      <td>30.0</td>\n",
       "      <td>11.614866</td>\n",
       "      <td>1.0</td>\n",
       "      <td>14896.0</td>\n",
       "      <td>9.683657</td>\n",
       "      <td>60078280.0</td>\n",
       "    </tr>\n",
       "    <tr>\n",
       "      <th>1</th>\n",
       "      <td>0.0</td>\n",
       "      <td>30.0</td>\n",
       "      <td>11.298669</td>\n",
       "      <td>1.0</td>\n",
       "      <td>14896.0</td>\n",
       "      <td>9.866500</td>\n",
       "      <td>55845368.0</td>\n",
       "    </tr>\n",
       "    <tr>\n",
       "      <th>2</th>\n",
       "      <td>0.0</td>\n",
       "      <td>30.0</td>\n",
       "      <td>11.282380</td>\n",
       "      <td>1.0</td>\n",
       "      <td>14896.0</td>\n",
       "      <td>9.958941</td>\n",
       "      <td>41964280.0</td>\n",
       "    </tr>\n",
       "    <tr>\n",
       "      <th>3</th>\n",
       "      <td>0.0</td>\n",
       "      <td>30.0</td>\n",
       "      <td>10.874917</td>\n",
       "      <td>1.0</td>\n",
       "      <td>14896.0</td>\n",
       "      <td>10.021345</td>\n",
       "      <td>38486464.0</td>\n",
       "    </tr>\n",
       "    <tr>\n",
       "      <th>4</th>\n",
       "      <td>0.0</td>\n",
       "      <td>30.0</td>\n",
       "      <td>10.547594</td>\n",
       "      <td>1.0</td>\n",
       "      <td>14896.0</td>\n",
       "      <td>9.896636</td>\n",
       "      <td>37446060.0</td>\n",
       "    </tr>\n",
       "    <tr>\n",
       "      <th>5</th>\n",
       "      <td>0.0</td>\n",
       "      <td>30.0</td>\n",
       "      <td>10.452176</td>\n",
       "      <td>1.0</td>\n",
       "      <td>14896.0</td>\n",
       "      <td>9.840355</td>\n",
       "      <td>41385216.0</td>\n",
       "    </tr>\n",
       "    <tr>\n",
       "      <th>6</th>\n",
       "      <td>0.0</td>\n",
       "      <td>30.0</td>\n",
       "      <td>11.269107</td>\n",
       "      <td>1.0</td>\n",
       "      <td>14896.0</td>\n",
       "      <td>9.605577</td>\n",
       "      <td>43190660.0</td>\n",
       "    </tr>\n",
       "  </tbody>\n",
       "</table>\n",
       "</div>"
      ],
      "text/plain": [
       "                   days_since_prior_order                  prices           \\\n",
       "                                      min   max       mean    min      max   \n",
       "orders_day_of_week                                                           \n",
       "0                                     0.0  30.0  11.614866    1.0  14896.0   \n",
       "1                                     0.0  30.0  11.298669    1.0  14896.0   \n",
       "2                                     0.0  30.0  11.282380    1.0  14896.0   \n",
       "3                                     0.0  30.0  10.874917    1.0  14896.0   \n",
       "4                                     0.0  30.0  10.547594    1.0  14896.0   \n",
       "5                                     0.0  30.0  10.452176    1.0  14896.0   \n",
       "6                                     0.0  30.0  11.269107    1.0  14896.0   \n",
       "\n",
       "                                           \n",
       "                         mean         sum  \n",
       "orders_day_of_week                         \n",
       "0                    9.683657  60078280.0  \n",
       "1                    9.866500  55845368.0  \n",
       "2                    9.958941  41964280.0  \n",
       "3                   10.021345  38486464.0  \n",
       "4                    9.896636  37446060.0  \n",
       "5                    9.840355  41385216.0  \n",
       "6                    9.605577  43190660.0  "
      ]
     },
     "execution_count": 38,
     "metadata": {},
     "output_type": "execute_result"
    }
   ],
   "source": [
    "# Summary statistics of day of week across order frequency and expenditure\n",
    "\n",
    "day_of_week_sums = df.groupby(['orders_day_of_week']).agg({'days_since_prior_order' : ['min', 'max', 'mean'], 'prices' : ['min', 'max', 'mean', 'sum']})\n",
    "day_of_week_sums"
   ]
  },
  {
   "cell_type": "markdown",
   "id": "f33b7ece",
   "metadata": {},
   "source": [
    "The average number of days between each order is 10 or 11 across different days of week. Saturday is the highest revenue day across week."
   ]
  },
  {
   "cell_type": "markdown",
   "id": "067cb960",
   "metadata": {},
   "source": [
    "# 8.  Customer Profiles by Region and Departments"
   ]
  },
  {
   "cell_type": "markdown",
   "id": "04646e20",
   "metadata": {},
   "source": [
    "## 8.1 Age Grouping by Region"
   ]
  },
  {
   "cell_type": "code",
   "execution_count": 43,
   "id": "137e8a69",
   "metadata": {},
   "outputs": [],
   "source": [
    "#Creating a crosstab of the regions and age groups\n",
    "\n",
    "crosstab_region_age = pd.crosstab(df['region'], df['age_profile'], dropna = False)"
   ]
  },
  {
   "cell_type": "code",
   "execution_count": 44,
   "id": "7f682db7",
   "metadata": {},
   "outputs": [
    {
     "data": {
      "image/png": "[encoded data removed]",
      "text/plain": [
       "<Figure size 640x480 with 1 Axes>"
      ]
     },
     "metadata": {},
     "output_type": "display_data"
    }
   ],
   "source": [
    "#Creating a stacked bar chart of the regions, divided up by the age groups\n",
    "\n",
    "region_age = crosstab_region_age.plot(kind = 'barh', color = sns.color_palette('Greens', 3))\n",
    "plt.legend(loc='lower right')\n",
    "plt.ylabel('Regions', fontweight = 'bold')\n",
    "plt.title('Age Groupings by Region', fontweight = 'bold')\n",
    "plt.show()"
   ]
  },
  {
   "cell_type": "markdown",
   "id": "5ffaf7f2",
   "metadata": {},
   "source": [
    "In all regions, the largest number of customers is represented by customers between the ages of 18-40. The Southern region includes the largest number of clients."
   ]
  },
  {
   "cell_type": "code",
   "execution_count": 47,
   "id": "75e1570d",
   "metadata": {},
   "outputs": [],
   "source": [
    "# Export the  stacked bar chart of the regions, divided up by the age groups\n",
    "\n",
    "region_age.figure.savefig(os.path.join(path,'04 Analysis','Visualizations', 'region_age_stb.png'))"
   ]
  },
  {
   "cell_type": "markdown",
   "id": "a3e8861e",
   "metadata": {},
   "source": [
    "## 8.2 Age Groupings by Department"
   ]
  },
  {
   "cell_type": "code",
   "execution_count": 45,
   "id": "12316a11",
   "metadata": {},
   "outputs": [],
   "source": [
    "#Creating a crosstab of the regions and age groups\n",
    "\n",
    "crosstab_department_age = pd.crosstab(df['department_id'], df['age_profile'], dropna = False)"
   ]
  },
  {
   "cell_type": "code",
   "execution_count": 46,
   "id": "0b83d009",
   "metadata": {},
   "outputs": [
    {
     "data": {
      "text/html": [
       "<div>\n",
       "<style scoped>\n",
       "    .dataframe tbody tr th:only-of-type {\n",
       "        vertical-align: middle;\n",
       "    }\n",
       "\n",
       "    .dataframe tbody tr th {\n",
       "        vertical-align: top;\n",
       "    }\n",
       "\n",
       "    .dataframe thead th {\n",
       "        text-align: right;\n",
       "    }\n",
       "</style>\n",
       "<table border=\"1\" class=\"dataframe\">\n",
       "  <thead>\n",
       "    <tr style=\"text-align: right;\">\n",
       "      <th>age_profile</th>\n",
       "      <th>18-40</th>\n",
       "      <th>41-60</th>\n",
       "      <th>60 +</th>\n",
       "    </tr>\n",
       "    <tr>\n",
       "      <th>department_id</th>\n",
       "      <th></th>\n",
       "      <th></th>\n",
       "      <th></th>\n",
       "    </tr>\n",
       "  </thead>\n",
       "  <tbody>\n",
       "    <tr>\n",
       "      <th>1</th>\n",
       "      <td>801086</td>\n",
       "      <td>699395</td>\n",
       "      <td>734262</td>\n",
       "    </tr>\n",
       "    <tr>\n",
       "      <th>2</th>\n",
       "      <td>13218</td>\n",
       "      <td>11371</td>\n",
       "      <td>11702</td>\n",
       "    </tr>\n",
       "    <tr>\n",
       "      <th>3</th>\n",
       "      <td>421442</td>\n",
       "      <td>368275</td>\n",
       "      <td>382711</td>\n",
       "    </tr>\n",
       "    <tr>\n",
       "      <th>4</th>\n",
       "      <td>3417016</td>\n",
       "      <td>2965656</td>\n",
       "      <td>3096619</td>\n",
       "    </tr>\n",
       "    <tr>\n",
       "      <th>5</th>\n",
       "      <td>57243</td>\n",
       "      <td>47920</td>\n",
       "      <td>48533</td>\n",
       "    </tr>\n",
       "    <tr>\n",
       "      <th>6</th>\n",
       "      <td>97977</td>\n",
       "      <td>84337</td>\n",
       "      <td>86939</td>\n",
       "    </tr>\n",
       "    <tr>\n",
       "      <th>7</th>\n",
       "      <td>957256</td>\n",
       "      <td>847867</td>\n",
       "      <td>883000</td>\n",
       "    </tr>\n",
       "    <tr>\n",
       "      <th>8</th>\n",
       "      <td>35248</td>\n",
       "      <td>30338</td>\n",
       "      <td>32130</td>\n",
       "    </tr>\n",
       "    <tr>\n",
       "      <th>9</th>\n",
       "      <td>312430</td>\n",
       "      <td>272072</td>\n",
       "      <td>282125</td>\n",
       "    </tr>\n",
       "    <tr>\n",
       "      <th>10</th>\n",
       "      <td>12508</td>\n",
       "      <td>10774</td>\n",
       "      <td>11291</td>\n",
       "    </tr>\n",
       "    <tr>\n",
       "      <th>11</th>\n",
       "      <td>160350</td>\n",
       "      <td>142014</td>\n",
       "      <td>145208</td>\n",
       "    </tr>\n",
       "    <tr>\n",
       "      <th>12</th>\n",
       "      <td>253723</td>\n",
       "      <td>221657</td>\n",
       "      <td>233547</td>\n",
       "    </tr>\n",
       "    <tr>\n",
       "      <th>13</th>\n",
       "      <td>672494</td>\n",
       "      <td>590571</td>\n",
       "      <td>612304</td>\n",
       "    </tr>\n",
       "    <tr>\n",
       "      <th>14</th>\n",
       "      <td>253803</td>\n",
       "      <td>221093</td>\n",
       "      <td>228137</td>\n",
       "    </tr>\n",
       "    <tr>\n",
       "      <th>15</th>\n",
       "      <td>386223</td>\n",
       "      <td>334006</td>\n",
       "      <td>347829</td>\n",
       "    </tr>\n",
       "    <tr>\n",
       "      <th>16</th>\n",
       "      <td>1952349</td>\n",
       "      <td>1685898</td>\n",
       "      <td>1759802</td>\n",
       "    </tr>\n",
       "    <tr>\n",
       "      <th>17</th>\n",
       "      <td>264510</td>\n",
       "      <td>231273</td>\n",
       "      <td>242883</td>\n",
       "    </tr>\n",
       "    <tr>\n",
       "      <th>18</th>\n",
       "      <td>152763</td>\n",
       "      <td>134015</td>\n",
       "      <td>137024</td>\n",
       "    </tr>\n",
       "    <tr>\n",
       "      <th>19</th>\n",
       "      <td>1044638</td>\n",
       "      <td>902896</td>\n",
       "      <td>940016</td>\n",
       "    </tr>\n",
       "    <tr>\n",
       "      <th>20</th>\n",
       "      <td>378298</td>\n",
       "      <td>328560</td>\n",
       "      <td>344391</td>\n",
       "    </tr>\n",
       "    <tr>\n",
       "      <th>21</th>\n",
       "      <td>25203</td>\n",
       "      <td>21766</td>\n",
       "      <td>22176</td>\n",
       "    </tr>\n",
       "  </tbody>\n",
       "</table>\n",
       "</div>"
      ],
      "text/plain": [
       "age_profile      18-40    41-60     60 +\n",
       "department_id                           \n",
       "1               801086   699395   734262\n",
       "2                13218    11371    11702\n",
       "3               421442   368275   382711\n",
       "4              3417016  2965656  3096619\n",
       "5                57243    47920    48533\n",
       "6                97977    84337    86939\n",
       "7               957256   847867   883000\n",
       "8                35248    30338    32130\n",
       "9               312430   272072   282125\n",
       "10               12508    10774    11291\n",
       "11              160350   142014   145208\n",
       "12              253723   221657   233547\n",
       "13              672494   590571   612304\n",
       "14              253803   221093   228137\n",
       "15              386223   334006   347829\n",
       "16             1952349  1685898  1759802\n",
       "17              264510   231273   242883\n",
       "18              152763   134015   137024\n",
       "19             1044638   902896   940016\n",
       "20              378298   328560   344391\n",
       "21               25203    21766    22176"
      ]
     },
     "execution_count": 46,
     "metadata": {},
     "output_type": "execute_result"
    }
   ],
   "source": [
    "crosstab_department_age"
   ]
  },
  {
   "cell_type": "code",
   "execution_count": 47,
   "id": "d9ec45d4",
   "metadata": {},
   "outputs": [
    {
     "data": {
      "image/png": "[encoded data removed]",
      "text/plain": [
       "<Figure size 640x480 with 1 Axes>"
      ]
     },
     "metadata": {},
     "output_type": "display_data"
    }
   ],
   "source": [
    "#Creating a stacked bar chart of the departments, divided up by the age_profile\n",
    "\n",
    "dept_income = crosstab_department_age.plot(kind = 'barh', stacked = True, color = sns.color_palette('Greens', 3))\n",
    "plt.legend(loc='lower right')\n",
    "plt.ylabel('department_id', fontweight = 'bold')\n",
    "plt.title('Age Groupings by Department', fontweight = 'bold')\n",
    "plt.show()"
   ]
  },
  {
   "cell_type": "markdown",
   "id": "f4f3eb9d",
   "metadata": {},
   "source": [
    "Produce (4) is the highest category in department followed by Dairy Eggs (16) across the age groups."
   ]
  },
  {
   "cell_type": "code",
   "execution_count": 53,
   "id": "9534c9ec",
   "metadata": {},
   "outputs": [],
   "source": [
    "# Export the  stacked bar chart by department\n",
    "\n",
    "dept_income.figure.savefig(os.path.join(path,'04 Analysis','Visualizations', 'dept_income_stb.png'))"
   ]
  },
  {
   "cell_type": "markdown",
   "id": "f04a38b9",
   "metadata": {},
   "source": [
    "## 8.3 Family Profile  by Region"
   ]
  },
  {
   "cell_type": "code",
   "execution_count": 48,
   "id": "9deef569",
   "metadata": {},
   "outputs": [],
   "source": [
    "#Creating a crosstab of the regions and family status\n",
    "\n",
    "crosstab_region_family = pd.crosstab(df['region'], df['family_profile'], dropna = False)"
   ]
  },
  {
   "cell_type": "code",
   "execution_count": 49,
   "id": "a4b76c5f",
   "metadata": {},
   "outputs": [
    {
     "data": {
      "image/png": "[encoded data removed]",
      "text/plain": [
       "<Figure size 640x480 with 1 Axes>"
      ]
     },
     "metadata": {},
     "output_type": "display_data"
    }
   ],
   "source": [
    "#Creating a stacked bar chart of the regions, divided up by the family groups\n",
    "\n",
    "region_family = crosstab_region_family.plot(kind = 'barh', color = sns.color_palette('Greens', 2))\n",
    "plt.legend(loc='lower right')\n",
    "plt.ylabel('Regions', fontweight = 'bold')\n",
    "plt.title('Family Groupings by Region', fontweight = 'bold')\n",
    "plt.show()"
   ]
  },
  {
   "cell_type": "markdown",
   "id": "8d794a70",
   "metadata": {},
   "source": [
    "Customers with family from Southern region represents the highest category."
   ]
  },
  {
   "cell_type": "code",
   "execution_count": 58,
   "id": "62d42979",
   "metadata": {},
   "outputs": [],
   "source": [
    "# Export the stacked bar chart of the regions, divided up by the family groups\n",
    "\n",
    "region_family.figure.savefig(os.path.join(path,'04 Analysis','Visualizations', 'region_family_stb.png'))\n"
   ]
  },
  {
   "cell_type": "markdown",
   "id": "31dee424",
   "metadata": {},
   "source": [
    "## 8.4 Family Profile by Department"
   ]
  },
  {
   "cell_type": "code",
   "execution_count": 50,
   "id": "ee1290b6",
   "metadata": {},
   "outputs": [],
   "source": [
    "#Creating a crosstab of the departments and family status\n",
    "\n",
    "crosstab_department_family = pd.crosstab(df['department_id'], df['family_profile'], dropna = False)"
   ]
  },
  {
   "cell_type": "code",
   "execution_count": 51,
   "id": "21ef2c8c",
   "metadata": {},
   "outputs": [
    {
     "data": {
      "image/png": "[encoded data removed]",
      "text/plain": [
       "<Figure size 640x480 with 1 Axes>"
      ]
     },
     "metadata": {},
     "output_type": "display_data"
    }
   ],
   "source": [
    "#Creating a stacked bar chart of the department, divided up by the family groups\n",
    "\n",
    "department_family = crosstab_department_family.plot(kind = 'barh', color = sns.color_palette('Greens', 2))\n",
    "plt.legend(loc='lower right')\n",
    "plt.ylabel('Regions', fontweight = 'bold')\n",
    "plt.title('Family Groupings by Department', fontweight = 'bold')\n",
    "plt.show()"
   ]
  },
  {
   "cell_type": "code",
   "execution_count": 61,
   "id": "d956f7bd",
   "metadata": {},
   "outputs": [],
   "source": [
    "# Export the stacked bar chart of the department, divided up by the family groups\n",
    "\n",
    "department_family.figure.savefig(os.path.join(path,'04 Analysis','Visualizations', 'department_family_stb.png'))"
   ]
  },
  {
   "cell_type": "markdown",
   "id": "19fe8194",
   "metadata": {},
   "source": [
    "## 8.5 Income Profile by Region"
   ]
  },
  {
   "cell_type": "code",
   "execution_count": 53,
   "id": "6a9a8ecf",
   "metadata": {},
   "outputs": [],
   "source": [
    "#Creating a crosstab of the regions and income profile\n",
    "\n",
    "crosstab_region_income = pd.crosstab(df['region'], df['income_profile'], dropna = False)"
   ]
  },
  {
   "cell_type": "code",
   "execution_count": 55,
   "id": "ee5a6c91",
   "metadata": {},
   "outputs": [
    {
     "data": {
      "image/png": "[encoded data removed]",
      "text/plain": [
       "<Figure size 640x480 with 1 Axes>"
      ]
     },
     "metadata": {},
     "output_type": "display_data"
    }
   ],
   "source": [
    "#Creating a stacked bar chart of the regions, divided up by the income profile\n",
    "\n",
    "region_income = crosstab_region_income.plot(kind = 'barh', color = sns.color_palette('Greens', 3))\n",
    "plt.legend(loc='lower right')\n",
    "plt.ylabel('Regions', fontweight = 'bold')\n",
    "plt.title('Income Profile by Region', fontweight = 'bold')\n",
    "plt.show()"
   ]
  },
  {
   "cell_type": "code",
   "execution_count": 59,
   "id": "9a7f972b",
   "metadata": {},
   "outputs": [],
   "source": [
    "# Export the stacked bar chart of the region, divided up by the income profile\n",
    "\n",
    "region_income.figure.savefig(os.path.join(path,'04 Analysis','Visualizations', 'region_income_stb.png'))"
   ]
  },
  {
   "cell_type": "markdown",
   "id": "1a9f0ba5",
   "metadata": {},
   "source": [
    "## 8.6 Income Profile by Department"
   ]
  },
  {
   "cell_type": "code",
   "execution_count": 65,
   "id": "b92927c8",
   "metadata": {},
   "outputs": [],
   "source": [
    "#Creating a crosstab of the departments and income profile\n",
    "\n",
    "crosstab_department_income = pd.crosstab(df['department_id'], df['income_profile'], dropna = False)\n"
   ]
  },
  {
   "cell_type": "code",
   "execution_count": 69,
   "id": "c157b66d",
   "metadata": {},
   "outputs": [
    {
     "data": {
      "image/png": "[encoded data removed]",
      "text/plain": [
       "<Figure size 640x480 with 1 Axes>"
      ]
     },
     "metadata": {},
     "output_type": "display_data"
    }
   ],
   "source": [
    "#Creating a stacked bar chart of the department, divided up by the income profile\n",
    "\n",
    "department_income = crosstab_department_income.plot(kind = 'barh', stacked = True, color = sns.color_palette('Greens', 3))\n",
    "plt.legend(loc='lower right')\n",
    "plt.ylabel('Department', fontweight = 'bold')\n",
    "plt.title('Income profile by Department', fontweight = 'bold')\n",
    "plt.show()"
   ]
  },
  {
   "cell_type": "code",
   "execution_count": 70,
   "id": "67ab599f",
   "metadata": {},
   "outputs": [],
   "source": [
    "# Export the stacked bar chart of the region, divided up by the income profile\n",
    "\n",
    "department_income.figure.savefig(os.path.join(path,'04 Analysis','Visualizations', 'department_income_stb.png'))"
   ]
  },
  {
   "cell_type": "markdown",
   "id": "f947ed5d",
   "metadata": {},
   "source": [
    "## 8.7 Orders Days of Week Profile by Region"
   ]
  },
  {
   "cell_type": "code",
   "execution_count": 64,
   "id": "39871349",
   "metadata": {},
   "outputs": [],
   "source": [
    "#Creating a crosstab of the regions and days of week profile\n",
    "\n",
    "crosstab_region_days = pd.crosstab(df['region'], df['orders_day_of_week'], dropna = False)"
   ]
  },
  {
   "cell_type": "code",
   "execution_count": 71,
   "id": "72270fda",
   "metadata": {},
   "outputs": [
    {
     "data": {
      "image/png": "[encoded data removed]",
      "text/plain": [
       "<Figure size 640x480 with 1 Axes>"
      ]
     },
     "metadata": {},
     "output_type": "display_data"
    }
   ],
   "source": [
    "#Creating a stacked bar chart of the department, divided up by the income profile\n",
    "\n",
    "region_day_of_week = crosstab_region_days.plot(kind = 'barh', stacked = True, color = sns.color_palette('Greens', 7))\n",
    "plt.legend(loc='lower right')\n",
    "plt.ylabel('Regions', fontweight = 'bold')\n",
    "plt.title('Orders Days of Week by Region', fontweight = 'bold')\n",
    "plt.show()"
   ]
  },
  {
   "cell_type": "markdown",
   "id": "88201e19",
   "metadata": {},
   "source": [
    "Saturday and Sunday in Southern region are the days with the most oreders."
   ]
  },
  {
   "cell_type": "code",
   "execution_count": 72,
   "id": "15894962",
   "metadata": {},
   "outputs": [],
   "source": [
    "# Export the stacked bar chart of the region, divided up by day of the week\n",
    "\n",
    "region_day_of_week.figure.savefig(os.path.join(path,'04 Analysis','Visualizations', 'region_day_of_week_stb.png'))"
   ]
  },
  {
   "cell_type": "markdown",
   "id": "135699e7",
   "metadata": {},
   "source": [
    "## 8.8  Orders Days of Week Profile by Department"
   ]
  },
  {
   "cell_type": "code",
   "execution_count": 73,
   "id": "14644857",
   "metadata": {},
   "outputs": [],
   "source": [
    "#Creating a crosstab of the regions and days of week profile\n",
    "\n",
    "crosstab_department_days = pd.crosstab(df['department_id'], df['orders_day_of_week'], dropna = False)"
   ]
  },
  {
   "cell_type": "code",
   "execution_count": 75,
   "id": "2f2072ae",
   "metadata": {},
   "outputs": [
    {
     "data": {
      "image/png": "[encoded data removed]",
      "text/plain": [
       "<Figure size 640x480 with 1 Axes>"
      ]
     },
     "metadata": {},
     "output_type": "display_data"
    }
   ],
   "source": [
    "#Creating a stacked bar chart of the department, divided up by days of week profile\n",
    "\n",
    "department_day_of_week = crosstab_department_days.plot(kind = 'barh', stacked = True, color = sns.color_palette('Greens', 7))\n",
    "plt.legend(loc='lower right')\n",
    "plt.ylabel('Departments', fontweight = 'bold')\n",
    "plt.title('Orders Days of Week by Department', fontweight = 'bold')\n",
    "plt.show()"
   ]
  },
  {
   "cell_type": "markdown",
   "id": "67766b6d",
   "metadata": {},
   "source": [
    "Customers purchase the most products in produce department(4) followed by dairy eggs(16) on Saturday."
   ]
  },
  {
   "cell_type": "code",
   "execution_count": 76,
   "id": "a4b1742d",
   "metadata": {},
   "outputs": [],
   "source": [
    "# Export the stacked bar chart of the department, divided up by day of the week\n",
    "\n",
    "department_day_of_week.figure.savefig(os.path.join(path,'04 Analysis','Visualizations', 'department_day_of_week_stb.png'))"
   ]
  },
  {
   "cell_type": "code",
   "execution_count": 77,
   "id": "2b7ad269",
   "metadata": {},
   "outputs": [],
   "source": [
    "# Export data to pkl\n",
    "\n",
    "df.to_pickle(os.path.join(path, '02 Data','Prepared Data', 'orders_products_all.pkl'))"
   ]
  },
  {
   "cell_type": "code",
   "execution_count": null,
   "id": "402f75b8",
   "metadata": {},
   "outputs": [],
   "source": []
  }
 ],
 "metadata": {
  "kernelspec": {
   "display_name": "Python 3 (ipykernel)",
   "language": "python",
   "name": "python3"
  },
  "language_info": {
   "codemirror_mode": {
    "name": "ipython",
    "version": 3
   },
   "file_extension": ".py",
   "mimetype": "text/x-python",
   "name": "python",
   "nbconvert_exporter": "python",
   "pygments_lexer": "ipython3",
   "version": "3.10.9"
  }
 },
 "nbformat": 4,
 "nbformat_minor": 5
}
