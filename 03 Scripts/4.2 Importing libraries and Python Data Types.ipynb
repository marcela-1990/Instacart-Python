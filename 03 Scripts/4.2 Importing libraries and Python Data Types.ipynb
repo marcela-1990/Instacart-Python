{
 "cells": [
  {
   "cell_type": "markdown",
   "id": "22090a0e",
   "metadata": {},
   "source": [
    "#01.Importing libraries"
   ]
  },
  {
   "cell_type": "code",
   "execution_count": 1,
   "id": "be52e62f",
   "metadata": {},
   "outputs": [],
   "source": [
    "#Import libraries\n",
    "import pandas as pd\n",
    "import numpy as np\n",
    "import os"
   ]
  },
  {
   "cell_type": "code",
   "execution_count": 4,
   "id": "6468887f",
   "metadata": {},
   "outputs": [],
   "source": [
    "x=30"
   ]
  },
  {
   "cell_type": "code",
   "execution_count": 3,
   "id": "85aa517e",
   "metadata": {},
   "outputs": [],
   "source": [
    "y=35"
   ]
  },
  {
   "cell_type": "code",
   "execution_count": 5,
   "id": "669735d8",
   "metadata": {},
   "outputs": [
    {
     "data": {
      "text/plain": [
       "100"
      ]
     },
     "execution_count": 5,
     "metadata": {},
     "output_type": "execute_result"
    }
   ],
   "source": [
    "x+y+y"
   ]
  },
  {
   "cell_type": "code",
   "execution_count": 6,
   "id": "82ad8b20",
   "metadata": {},
   "outputs": [
    {
     "data": {
      "text/plain": [
       "100"
      ]
     },
     "execution_count": 6,
     "metadata": {},
     "output_type": "execute_result"
    }
   ],
   "source": [
    "165-x-y"
   ]
  },
  {
   "cell_type": "code",
   "execution_count": 7,
   "id": "39709b98",
   "metadata": {},
   "outputs": [],
   "source": [
    "z=195"
   ]
  },
  {
   "cell_type": "code",
   "execution_count": 9,
   "id": "62860055",
   "metadata": {},
   "outputs": [
    {
     "data": {
      "text/plain": [
       "100"
      ]
     },
     "execution_count": 9,
     "metadata": {},
     "output_type": "execute_result"
    }
   ],
   "source": [
    "z-(x*2+y)"
   ]
  },
  {
   "cell_type": "code",
   "execution_count": 10,
   "id": "efd0d29f",
   "metadata": {},
   "outputs": [],
   "source": [
    "n=25.5"
   ]
  },
  {
   "cell_type": "code",
   "execution_count": 11,
   "id": "da70f621",
   "metadata": {},
   "outputs": [],
   "source": [
    "m=5.5"
   ]
  },
  {
   "cell_type": "code",
   "execution_count": 12,
   "id": "1c00d128",
   "metadata": {},
   "outputs": [
    {
     "data": {
      "text/plain": [
       "4.636363636363637"
      ]
     },
     "execution_count": 12,
     "metadata": {},
     "output_type": "execute_result"
    }
   ],
   "source": [
    "n/m"
   ]
  },
  {
   "cell_type": "code",
   "execution_count": 19,
   "id": "f72a9a3c",
   "metadata": {},
   "outputs": [],
   "source": [
    "a='Good Morning,'"
   ]
  },
  {
   "cell_type": "code",
   "execution_count": 20,
   "id": "0a9d3875",
   "metadata": {},
   "outputs": [],
   "source": [
    "b='Good Bye,'"
   ]
  },
  {
   "cell_type": "code",
   "execution_count": 21,
   "id": "d14fd8b4",
   "metadata": {},
   "outputs": [],
   "source": [
    "c= ' Tom!'"
   ]
  },
  {
   "cell_type": "code",
   "execution_count": 22,
   "id": "d72bf81f",
   "metadata": {},
   "outputs": [
    {
     "data": {
      "text/plain": [
       "'Good Morning, Tom!'"
      ]
     },
     "execution_count": 22,
     "metadata": {},
     "output_type": "execute_result"
    }
   ],
   "source": [
    "a+c"
   ]
  },
  {
   "cell_type": "code",
   "execution_count": 23,
   "id": "98a11010",
   "metadata": {},
   "outputs": [
    {
     "data": {
      "text/plain": [
       "'Good Bye, Tom!'"
      ]
     },
     "execution_count": 23,
     "metadata": {},
     "output_type": "execute_result"
    }
   ],
   "source": [
    "b+c"
   ]
  },
  {
   "cell_type": "code",
   "execution_count": 24,
   "id": "e3154167",
   "metadata": {},
   "outputs": [],
   "source": [
    "p='foot'"
   ]
  },
  {
   "cell_type": "code",
   "execution_count": 25,
   "id": "b918d68d",
   "metadata": {},
   "outputs": [],
   "source": [
    "r='ball'"
   ]
  },
  {
   "cell_type": "code",
   "execution_count": 26,
   "id": "f8cea947",
   "metadata": {},
   "outputs": [
    {
     "data": {
      "text/plain": [
       "'football'"
      ]
     },
     "execution_count": 26,
     "metadata": {},
     "output_type": "execute_result"
    }
   ],
   "source": [
    "p+r"
   ]
  },
  {
   "cell_type": "code",
   "execution_count": 29,
   "id": "bb2dbe8c",
   "metadata": {},
   "outputs": [
    {
     "data": {
      "text/plain": [
       "'footballfootballfootballfootballfootballfootballfootballfootballfootballfootballfootballfootballfootballfootballfootballfootballfootballfootballfootballfootballfootballfootballfootballfootballfootballfootballfootballfootballfootballfootballfootballfootballfootballfootballfootballfootballfootballfootballfootballfootballfootballfootballfootballfootballfootballfootballfootballfootballfootballfootballfootballfootballfootballfootballfootballfootballfootballfootballfootballfootballfootballfootballfootballfootballfootballfootballfootballfootballfootballfootballfootballfootballfootballfootballfootballfootballfootballfootballfootballfootballfootballfootballfootballfootballfootballfootballfootballfootballfootballfootballfootballfootballfootballfootballfootballfootballfootballfootballfootballfootball'"
      ]
     },
     "execution_count": 29,
     "metadata": {},
     "output_type": "execute_result"
    }
   ],
   "source": [
    "100*(p+r)"
   ]
  },
  {
   "cell_type": "code",
   "execution_count": null,
   "id": "830cda1e",
   "metadata": {},
   "outputs": [],
   "source": []
  }
 ],
 "metadata": {
  "kernelspec": {
   "display_name": "Python 3 (ipykernel)",
   "language": "python",
   "name": "python3"
  },
  "language_info": {
   "codemirror_mode": {
    "name": "ipython",
    "version": 3
   },
   "file_extension": ".py",
   "mimetype": "text/x-python",
   "name": "python",
   "nbconvert_exporter": "python",
   "pygments_lexer": "ipython3",
   "version": "3.10.9"
  }
 },
 "nbformat": 4,
 "nbformat_minor": 5
}
