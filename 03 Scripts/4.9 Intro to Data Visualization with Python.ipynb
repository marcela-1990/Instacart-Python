{
 "cells": [
  {
   "cell_type": "markdown",
   "id": "80116b9a",
   "metadata": {},
   "source": [
    "# Import libraries"
   ]
  },
  {
   "cell_type": "code",
   "execution_count": null,
   "id": "81318997",
   "metadata": {},
   "outputs": [],
   "source": [
    "# Import libraries\n",
    "\n",
    "import pandas as pd\n",
    "import numpy as np\n",
    "import os\n",
    "import matplotlib.pyplot as plt\n",
    "import seaborn as sns\n",
    "import scipy\n"
   ]
  },
  {
   "cell_type": "markdown",
   "id": "aa03261e",
   "metadata": {},
   "source": [
    "# Import Data"
   ]
  },
  {
   "cell_type": "code",
   "execution_count": 4,
   "id": "4810e341",
   "metadata": {},
   "outputs": [],
   "source": [
    "#Set path\n",
    "\n",
    "path = r\"C:\\Users\\marce\\Documents\\Instacart Basket Analysis\""
   ]
  },
  {
   "cell_type": "code",
   "execution_count": 6,
   "id": "2c9fe950",
   "metadata": {},
   "outputs": [],
   "source": [
    "# Import ords_prods_merge_3.pkl\n",
    "\n",
    "df= pd.read_pickle(os.path.join(path, '02 Data', 'Prepared Data', 'ords_prods_merge_3.pkl'))"
   ]
  },
  {
   "cell_type": "code",
   "execution_count": 3,
   "id": "17a430be",
   "metadata": {},
   "outputs": [
    {
     "ename": "NameError",
     "evalue": "name 'df' is not defined",
     "output_type": "error",
     "traceback": [
      "\u001b[1;31m---------------------------------------------------------------------------\u001b[0m",
      "\u001b[1;31mNameError\u001b[0m                                 Traceback (most recent call last)",
      "Cell \u001b[1;32mIn[3], line 1\u001b[0m\n\u001b[1;32m----> 1\u001b[0m \u001b[43mdf\u001b[49m\u001b[38;5;241m.\u001b[39mcount()\n",
      "\u001b[1;31mNameError\u001b[0m: name 'df' is not defined"
     ]
    }
   ],
   "source": [
    "df.count()"
   ]
  },
  {
   "cell_type": "code",
   "execution_count": 5,
   "id": "ada52f32",
   "metadata": {},
   "outputs": [
    {
     "data": {
      "text/plain": [
       "(32404161, 23)"
      ]
     },
     "execution_count": 5,
     "metadata": {},
     "output_type": "execute_result"
    }
   ],
   "source": [
    "# Check the dimension of the imported df\n",
    "\n",
    "df.shape"
   ]
  },
  {
   "cell_type": "code",
   "execution_count": 10,
   "id": "a511b9ca",
   "metadata": {},
   "outputs": [],
   "source": [
    "# Change data type for order_id , user_id  , mean_prices to reduce the memory usage of df\n",
    "\n",
    "df['order_id'] = df['order_id'].astype('int16')\n",
    "df['user_id'] = df['user_id'].astype('int16')\n",
    "df['mean_prices'] = df['mean_prices'].astype('float16')\n",
    "\n",
    "\n"
   ]
  },
  {
   "cell_type": "code",
   "execution_count": 12,
   "id": "86922100",
   "metadata": {},
   "outputs": [
    {
     "name": "stdout",
     "output_type": "stream",
     "text": [
      "<class 'pandas.core.frame.DataFrame'>\n",
      "Int64Index: 32404161 entries, 0 to 32404858\n",
      "Data columns (total 23 columns):\n",
      " #   Column                  Dtype  \n",
      "---  ------                  -----  \n",
      " 0   order_id                int16  \n",
      " 1   user_id                 int16  \n",
      " 2   order_number            int8   \n",
      " 3   orders_day_of_week      int8   \n",
      " 4   order_hour_of_day       int8   \n",
      " 5   days_since_prior_order  float16\n",
      " 6   product_id              float16\n",
      " 7   add_to_cart_order       float16\n",
      " 8   reordered               float16\n",
      " 9   product_name            object \n",
      " 10  aisle_id                int8   \n",
      " 11  department_id           int8   \n",
      " 12  prices                  float16\n",
      " 13  price_range_loc         object \n",
      " 14  busiest_day             object \n",
      " 15  busiest_days            object \n",
      " 16  busiest_period_of_day   object \n",
      " 17  max_order               int8   \n",
      " 18  loyalty_flag            object \n",
      " 19  mean_prices             float16\n",
      " 20  spender_level           object \n",
      " 21  median_freq             float16\n",
      " 22  Frequency_flag          object \n",
      "dtypes: float16(7), int16(2), int8(6), object(8)\n",
      "memory usage: 2.9+ GB\n"
     ]
    }
   ],
   "source": [
    "# Check info for df\n",
    "df.info()"
   ]
  },
  {
   "cell_type": "markdown",
   "id": "fb526035",
   "metadata": {},
   "source": [
    "### Creating Bar Charts\n",
    "\n"
   ]
  },
  {
   "cell_type": "code",
   "execution_count": 13,
   "id": "05ba2be9",
   "metadata": {},
   "outputs": [
    {
     "data": {
      "text/plain": [
       "<Axes: >"
      ]
     },
     "execution_count": 13,
     "metadata": {},
     "output_type": "execute_result"
    },
    {
     "data": {
      "image/png": "[encoded data removed]",
      "text/plain": [
       "<Figure size 640x480 with 1 Axes>"
      ]
     },
     "metadata": {},
     "output_type": "display_data"
    }
   ],
   "source": [
    "# Create bar chart for 'orders_day_of_week'\n",
    "\n",
    "df['orders_day_of_week'].value_counts().plot.bar()"
   ]
  },
  {
   "cell_type": "code",
   "execution_count": 16,
   "id": "6a2ba087",
   "metadata": {},
   "outputs": [
    {
     "data": {
      "image/png": "[encoded data removed]",
      "text/plain": [
       "<Figure size 640x480 with 1 Axes>"
      ]
     },
     "metadata": {},
     "output_type": "display_data"
    }
   ],
   "source": [
    "# Create bar chart for 'orders_day_of_week' with color argument\n",
    "\n",
    "bar = df['orders_day_of_week'].value_counts().plot.bar(color=['purple', 'red', 'pink', 'orange', 'yellow', 'green', 'blue'])"
   ]
  },
  {
   "cell_type": "markdown",
   "id": "3c75dc34",
   "metadata": {},
   "source": [
    "### Exporting Charts"
   ]
  },
  {
   "cell_type": "code",
   "execution_count": 17,
   "id": "ec0c3d67",
   "metadata": {},
   "outputs": [],
   "source": [
    "# Export the bar chart\n",
    "\n",
    "bar.figure.savefig(os.path.join(path, '04 Analysis','Visualizations', 'bar_orders_dow.png'))"
   ]
  },
  {
   "cell_type": "markdown",
   "id": "2d3633cf",
   "metadata": {},
   "source": [
    "### Creating Histograms and Scatteplots"
   ]
  },
  {
   "cell_type": "code",
   "execution_count": 18,
   "id": "fcfc368c",
   "metadata": {},
   "outputs": [
    {
     "data": {
      "text/plain": [
       "<Axes: ylabel='Frequency'>"
      ]
     },
     "execution_count": 18,
     "metadata": {},
     "output_type": "execute_result"
    },
    {
     "data": {
      "image/png": "[encoded data removed]",
      "text/plain": [
       "<Figure size 640x480 with 1 Axes>"
      ]
     },
     "metadata": {},
     "output_type": "display_data"
    }
   ],
   "source": [
    "# Crearte a histogram of the 'prices' column\n",
    "\n",
    "df['prices'].plot.hist(bins = 25)\n"
   ]
  },
  {
   "cell_type": "code",
   "execution_count": 19,
   "id": "a1eac5a0",
   "metadata": {},
   "outputs": [
    {
     "data": {
      "text/plain": [
       "<Axes: xlabel='prices', ylabel='prices'>"
      ]
     },
     "execution_count": 19,
     "metadata": {},
     "output_type": "execute_result"
    },
    {
     "data": {
      "image/png": "[encoded data removed]",
      "text/plain": [
       "<Figure size 640x480 with 1 Axes>"
      ]
     },
     "metadata": {},
     "output_type": "display_data"
    }
   ],
   "source": [
    "# Crearte a scaterplot of the 'prices' column\n",
    "\n",
    "sns.scatterplot(x = 'prices', y = 'prices',data = df)\n",
    "\n",
    "\n"
   ]
  },
  {
   "cell_type": "code",
   "execution_count": 25,
   "id": "20ff815d",
   "metadata": {},
   "outputs": [],
   "source": [
    "# Create a new df that include only 'prices' and 'user_id' columns\n",
    "df_prices = df[['prices','user_id']]\n"
   ]
  },
  {
   "cell_type": "code",
   "execution_count": 26,
   "id": "2408920a",
   "metadata": {},
   "outputs": [
    {
     "data": {
      "text/html": [
       "<div>\n",
       "<style scoped>\n",
       "    .dataframe tbody tr th:only-of-type {\n",
       "        vertical-align: middle;\n",
       "    }\n",
       "\n",
       "    .dataframe tbody tr th {\n",
       "        vertical-align: top;\n",
       "    }\n",
       "\n",
       "    .dataframe thead th {\n",
       "        text-align: right;\n",
       "    }\n",
       "</style>\n",
       "<table border=\"1\" class=\"dataframe\">\n",
       "  <thead>\n",
       "    <tr style=\"text-align: right;\">\n",
       "      <th></th>\n",
       "      <th>prices</th>\n",
       "      <th>user_id</th>\n",
       "    </tr>\n",
       "  </thead>\n",
       "  <tbody>\n",
       "    <tr>\n",
       "      <th>10030345</th>\n",
       "      <td>14896.0</td>\n",
       "      <td>17</td>\n",
       "    </tr>\n",
       "    <tr>\n",
       "      <th>10030346</th>\n",
       "      <td>14896.0</td>\n",
       "      <td>17</td>\n",
       "    </tr>\n",
       "    <tr>\n",
       "      <th>10030347</th>\n",
       "      <td>14896.0</td>\n",
       "      <td>135</td>\n",
       "    </tr>\n",
       "    <tr>\n",
       "      <th>10030348</th>\n",
       "      <td>14896.0</td>\n",
       "      <td>135</td>\n",
       "    </tr>\n",
       "    <tr>\n",
       "      <th>10030349</th>\n",
       "      <td>14896.0</td>\n",
       "      <td>342</td>\n",
       "    </tr>\n",
       "    <tr>\n",
       "      <th>...</th>\n",
       "      <td>...</td>\n",
       "      <td>...</td>\n",
       "    </tr>\n",
       "    <tr>\n",
       "      <th>10034769</th>\n",
       "      <td>14896.0</td>\n",
       "      <td>9042</td>\n",
       "    </tr>\n",
       "    <tr>\n",
       "      <th>10034770</th>\n",
       "      <td>14896.0</td>\n",
       "      <td>9210</td>\n",
       "    </tr>\n",
       "    <tr>\n",
       "      <th>10034771</th>\n",
       "      <td>14896.0</td>\n",
       "      <td>9210</td>\n",
       "    </tr>\n",
       "    <tr>\n",
       "      <th>10034772</th>\n",
       "      <td>14896.0</td>\n",
       "      <td>9441</td>\n",
       "    </tr>\n",
       "    <tr>\n",
       "      <th>10034773</th>\n",
       "      <td>14896.0</td>\n",
       "      <td>9441</td>\n",
       "    </tr>\n",
       "  </tbody>\n",
       "</table>\n",
       "<p>4429 rows × 2 columns</p>\n",
       "</div>"
      ],
      "text/plain": [
       "           prices  user_id\n",
       "10030345  14896.0       17\n",
       "10030346  14896.0       17\n",
       "10030347  14896.0      135\n",
       "10030348  14896.0      135\n",
       "10030349  14896.0      342\n",
       "...           ...      ...\n",
       "10034769  14896.0     9042\n",
       "10034770  14896.0     9210\n",
       "10034771  14896.0     9210\n",
       "10034772  14896.0     9441\n",
       "10034773  14896.0     9441\n",
       "\n",
       "[4429 rows x 2 columns]"
      ]
     },
     "execution_count": 26,
     "metadata": {},
     "output_type": "execute_result"
    }
   ],
   "source": [
    "# Check whether are any values above a certain threshhold in data\n",
    "\n",
    "df_prices.loc[df_prices['prices']>100]"
   ]
  },
  {
   "cell_type": "code",
   "execution_count": 28,
   "id": "62eb83ed",
   "metadata": {},
   "outputs": [],
   "source": [
    "# Mark the values for prices>100 as missing (NaNs)\n",
    "df.loc[df['prices'] >100, 'prices'] = np.nan"
   ]
  },
  {
   "cell_type": "code",
   "execution_count": 29,
   "id": "190c02e2",
   "metadata": {},
   "outputs": [
    {
     "data": {
      "text/plain": [
       "25.0"
      ]
     },
     "execution_count": 29,
     "metadata": {},
     "output_type": "execute_result"
    }
   ],
   "source": [
    "df['prices'].max()"
   ]
  },
  {
   "cell_type": "code",
   "execution_count": 31,
   "id": "1c3f6db7",
   "metadata": {},
   "outputs": [
    {
     "data": {
      "image/png": "[encoded data removed]",
      "text/plain": [
       "<Figure size 640x480 with 1 Axes>"
      ]
     },
     "metadata": {},
     "output_type": "display_data"
    }
   ],
   "source": [
    "# Create histogram of the 'prices' column\n",
    "\n",
    "hist= df['prices'].plot.hist(bins=70)\n"
   ]
  },
  {
   "cell_type": "code",
   "execution_count": 32,
   "id": "b9377192",
   "metadata": {},
   "outputs": [],
   "source": [
    "# Export the histogram\n",
    "\n",
    "hist.figure.savefig(os.path.join(path, '04 Analysis','Visualizations', 'hist_prices.png'))"
   ]
  },
  {
   "cell_type": "markdown",
   "id": "f056355a",
   "metadata": {},
   "source": [
    "# Creating Line Charts"
   ]
  },
  {
   "cell_type": "markdown",
   "id": "96083673",
   "metadata": {},
   "source": [
    "### Sampling Data"
   ]
  },
  {
   "cell_type": "code",
   "execution_count": 33,
   "id": "c8f1ba83",
   "metadata": {},
   "outputs": [],
   "source": [
    "# Create a list holding Frue/False values to the test np.random.rand() <= 0.7 with random number(seed) '4'\n",
    "\n",
    "np.random.seed(4)\n",
    "dev = np.random.rand(len(df)) <= 0.7"
   ]
  },
  {
   "cell_type": "code",
   "execution_count": 34,
   "id": "8993a4aa",
   "metadata": {},
   "outputs": [
    {
     "data": {
      "text/plain": [
       "array([False,  True, False, ...,  True,  True, False])"
      ]
     },
     "execution_count": 34,
     "metadata": {},
     "output_type": "execute_result"
    }
   ],
   "source": [
    "dev"
   ]
  },
  {
   "cell_type": "code",
   "execution_count": 36,
   "id": "431956a9",
   "metadata": {},
   "outputs": [
    {
     "data": {
      "text/plain": [
       "array([0.81786511, 0.20691209, 0.46877994, 0.64491806, 0.17090853,\n",
       "       0.00833434, 0.18474633, 0.63848856, 0.5795878 , 0.44592973])"
      ]
     },
     "execution_count": 36,
     "metadata": {},
     "output_type": "execute_result"
    }
   ],
   "source": [
    "np.random.rand(10)\n"
   ]
  },
  {
   "cell_type": "code",
   "execution_count": 38,
   "id": "752db4d2",
   "metadata": {},
   "outputs": [
    {
     "data": {
      "text/plain": [
       "32404161"
      ]
     },
     "execution_count": 38,
     "metadata": {},
     "output_type": "execute_result"
    }
   ],
   "source": [
    "len(df)"
   ]
  },
  {
   "cell_type": "code",
   "execution_count": 39,
   "id": "c740111f",
   "metadata": {},
   "outputs": [],
   "source": [
    "# Store 70% of the sample in the dataframe big\n",
    "\n",
    "big = df[dev]"
   ]
  },
  {
   "cell_type": "code",
   "execution_count": 40,
   "id": "3650a446",
   "metadata": {},
   "outputs": [],
   "source": [
    "# Store 30% of the sample in the dataframe small\n",
    "\n",
    "small = df[~dev]"
   ]
  },
  {
   "cell_type": "code",
   "execution_count": 41,
   "id": "15c95b68",
   "metadata": {},
   "outputs": [
    {
     "data": {
      "text/plain": [
       "32404161"
      ]
     },
     "execution_count": 41,
     "metadata": {},
     "output_type": "execute_result"
    }
   ],
   "source": [
    "len(df)"
   ]
  },
  {
   "cell_type": "code",
   "execution_count": 42,
   "id": "b03ad530",
   "metadata": {},
   "outputs": [
    {
     "data": {
      "text/plain": [
       "32404161"
      ]
     },
     "execution_count": 42,
     "metadata": {},
     "output_type": "execute_result"
    }
   ],
   "source": [
    "len(big) + len (small)"
   ]
  },
  {
   "cell_type": "code",
   "execution_count": 43,
   "id": "697ddf56",
   "metadata": {},
   "outputs": [],
   "source": [
    "# Create  a new dataframe that contains only the 'prices' and 'orders_days_of_week' columns from the small subset\n",
    "\n",
    "df_2= small[['orders_day_of_week','prices']]"
   ]
  },
  {
   "cell_type": "code",
   "execution_count": 44,
   "id": "7458ec34",
   "metadata": {},
   "outputs": [
    {
     "data": {
      "image/png": "[encoded data removed]",
      "text/plain": [
       "<Figure size 640x480 with 1 Axes>"
      ]
     },
     "metadata": {},
     "output_type": "display_data"
    }
   ],
   "source": [
    "# Create the Line Chart\n",
    "\n",
    "line = sns.lineplot(data = df_2, x ='orders_day_of_week',y = 'prices' )"
   ]
  },
  {
   "cell_type": "code",
   "execution_count": 47,
   "id": "2bfc0e94",
   "metadata": {},
   "outputs": [],
   "source": [
    "# Export the line chart\n",
    "\n",
    "line.figure.savefig(os.path.join(path, '04 Analysis','Visualizations', 'line_chart_ds_pr.png'))\n"
   ]
  },
  {
   "cell_type": "code",
   "execution_count": null,
   "id": "9ed24201",
   "metadata": {},
   "outputs": [],
   "source": []
  }
 ],
 "metadata": {
  "kernelspec": {
   "display_name": "Python 3 (ipykernel)",
   "language": "python",
   "name": "python3"
  },
  "language_info": {
   "codemirror_mode": {
    "name": "ipython",
    "version": 3
   },
   "file_extension": ".py",
   "mimetype": "text/x-python",
   "name": "python",
   "nbconvert_exporter": "python",
   "pygments_lexer": "ipython3",
   "version": "3.10.9"
  }
 },
 "nbformat": 4,
 "nbformat_minor": 5
}
